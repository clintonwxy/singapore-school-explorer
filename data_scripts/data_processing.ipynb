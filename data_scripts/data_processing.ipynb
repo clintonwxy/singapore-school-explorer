{
 "nbformat": 4,
 "nbformat_minor": 2,
 "metadata": {
  "language_info": {
   "name": "python",
   "codemirror_mode": {
    "name": "ipython",
    "version": 3
   },
   "version": "3.7.3-final"
  },
  "orig_nbformat": 2,
  "file_extension": ".py",
  "mimetype": "text/x-python",
  "name": "python",
  "npconvert_exporter": "python",
  "pygments_lexer": "ipython3",
  "version": 3,
  "kernelspec": {
   "name": "python3",
   "display_name": "Python 3"
  }
 },
 "cells": [
  {
   "cell_type": "code",
   "execution_count": 7,
   "metadata": {},
   "outputs": [],
   "source": [
    "import pandas as pd\n",
    "import os\n",
    "import json"
   ]
  },
  {
   "cell_type": "code",
   "execution_count": 6,
   "metadata": {},
   "outputs": [
    {
     "output_type": "execute_result",
     "data": {
      "text/plain": "362"
     },
     "metadata": {},
     "execution_count": 6
    }
   ],
   "source": [
    "len(os.listdir('../data/data/raw'))"
   ]
  },
  {
   "cell_type": "code",
   "execution_count": 8,
   "metadata": {},
   "outputs": [],
   "source": [
    "with open('../data/data/schoolList.json') as f:\n",
    "    schoolList = json.load(f)\n",
    "    f.close()"
   ]
  },
  {
   "cell_type": "code",
   "execution_count": 10,
   "metadata": {},
   "outputs": [
    {
     "output_type": "execute_result",
     "data": {
      "text/plain": "362"
     },
     "metadata": {},
     "execution_count": 10
    }
   ],
   "source": [
    "len(schoolList)"
   ]
  },
  {
   "cell_type": "markdown",
   "metadata": {},
   "source": [
    "## Add location data to json"
   ]
  },
  {
   "cell_type": "code",
   "execution_count": 15,
   "metadata": {},
   "outputs": [
    {
     "output_type": "execute_result",
     "data": {
      "text/plain": "'0701'"
     },
     "metadata": {},
     "execution_count": 15
    }
   ],
   "source": [
    "os.listdir('../data/data/raw')[0][:4]"
   ]
  },
  {
   "cell_type": "code",
   "execution_count": 16,
   "metadata": {},
   "outputs": [],
   "source": [
    "with open('../data/data/locations.json') as f:\n",
    "    locations = json.load(f)\n",
    "    f.close()"
   ]
  },
  {
   "cell_type": "code",
   "execution_count": 18,
   "metadata": {},
   "outputs": [
    {
     "output_type": "execute_result",
     "data": {
      "text/plain": "[103.8041109, 1.3302929]"
     },
     "metadata": {},
     "execution_count": 18
    }
   ],
   "source": [
    "locations[\"0701\"][\"coordinates\"]"
   ]
  },
  {
   "cell_type": "code",
   "execution_count": 27,
   "metadata": {},
   "outputs": [],
   "source": [
    "output = {}\n",
    "error = []\n",
    "\n",
    "for school in os.listdir('../data/data/raw'):\n",
    "    try: \n",
    "        schoolCode = school[:4]\n",
    "        path = '../data/data/raw/' + school\n",
    "        with open(path) as f:\n",
    "            schoolInfo = json.load(f)\n",
    "            f.close()\n",
    "        location = {\"lat\": locations[schoolCode][\"coordinates\"][1],\n",
    "                    \"lng\": locations[schoolCode][\"coordinates\"][0]}\n",
    "        schoolInfo[\"location\"] = location\n",
    "        output[schoolCode] = schoolInfo\n",
    "    except:\n",
    "        error.append(schoolCode)"
   ]
  },
  {
   "cell_type": "code",
   "execution_count": 28,
   "metadata": {},
   "outputs": [
    {
     "output_type": "execute_result",
     "data": {
      "text/plain": "356"
     },
     "metadata": {},
     "execution_count": 28
    }
   ],
   "source": [
    "len(output)"
   ]
  },
  {
   "cell_type": "code",
   "execution_count": 25,
   "metadata": {},
   "outputs": [
    {
     "output_type": "execute_result",
     "data": {
      "text/plain": "dict_keys(['0701', '0702', '0703', '0705', '0706', '0708', '0709', '0710', '0711', '0712', '0713', '0714'])"
     },
     "metadata": {},
     "execution_count": 25
    }
   ],
   "source": [
    "output.keys()"
   ]
  },
  {
   "cell_type": "code",
   "execution_count": 29,
   "metadata": {},
   "outputs": [
    {
     "output_type": "execute_result",
     "data": {
      "text/plain": "['0715', '0716', '0717', '0718', '3066', '3232']"
     },
     "metadata": {},
     "execution_count": 29
    }
   ],
   "source": [
    "error"
   ]
  },
  {
   "cell_type": "code",
   "execution_count": 36,
   "metadata": {},
   "outputs": [
    {
     "output_type": "execute_result",
     "data": {
      "text/plain": "{'lat': 1.3302929, 'lng': 103.8041109}"
     },
     "metadata": {},
     "execution_count": 36
    }
   ],
   "source": [
    "output['0701']['location']"
   ]
  },
  {
   "cell_type": "code",
   "execution_count": 34,
   "metadata": {},
   "outputs": [],
   "source": [
    "with open('../data/all-schools-info.json', 'w') as out:\n",
    "    json.dump(output, out)"
   ]
  },
  {
   "cell_type": "markdown",
   "metadata": {},
   "source": [
    "## Data wrangling"
   ]
  },
  {
   "cell_type": "code",
   "execution_count": 2,
   "metadata": {},
   "outputs": [],
   "source": [
    "import json"
   ]
  },
  {
   "cell_type": "code",
   "execution_count": 3,
   "metadata": {},
   "outputs": [],
   "source": [
    "data = json.load(open(\"../data/all-schools-info.json\"))"
   ]
  },
  {
   "cell_type": "code",
   "execution_count": 13,
   "metadata": {},
   "outputs": [],
   "source": [
    "achievement = [v['AchievementHistory'] for k, v in data.items()]"
   ]
  },
  {
   "cell_type": "code",
   "execution_count": 14,
   "metadata": {
    "tags": [
     "outputPrepend"
    ]
   },
   "outputs": [],
   "source": [
    "keys = [sch.keys() for sch in achievement]"
   ]
  },
  {
   "cell_type": "code",
   "execution_count": 15,
   "metadata": {},
   "outputs": [
    {
     "output_type": "execute_result",
     "data": {
      "text/plain": "[dict_keys(['Secondary', 'Junior College']),\n dict_keys(['Secondary', 'Junior College']),\n dict_keys(['Junior College']),\n dict_keys(['Junior College']),\n dict_keys(['Junior College']),\n dict_keys(['Junior College']),\n dict_keys(['Junior College']),\n dict_keys(['Junior College']),\n dict_keys(['Junior College']),\n dict_keys(['Junior College']),\n dict_keys(['Junior College']),\n dict_keys(['Junior College']),\n dict_keys(['Junior College']),\n dict_keys(['Junior College']),\n dict_keys(['Junior College']),\n dict_keys(['Junior College']),\n dict_keys(['Secondary', 'Junior College']),\n dict_keys(['Junior College']),\n dict_keys(['Primary']),\n dict_keys(['Primary']),\n dict_keys(['Primary']),\n dict_keys(['Primary']),\n dict_keys(['Primary']),\n dict_keys(['Primary']),\n dict_keys(['Primary']),\n dict_keys(['Primary']),\n dict_keys(['Primary']),\n dict_keys(['Primary']),\n dict_keys(['Primary']),\n dict_keys(['Primary']),\n dict_keys(['Primary']),\n dict_keys(['Primary']),\n dict_keys(['Primary']),\n dict_keys(['Primary']),\n dict_keys(['Primary']),\n dict_keys(['Primary']),\n dict_keys(['Primary']),\n dict_keys(['Primary']),\n dict_keys(['Primary']),\n dict_keys(['Primary']),\n dict_keys(['Primary']),\n dict_keys(['Primary']),\n dict_keys(['Primary']),\n dict_keys(['Primary']),\n dict_keys(['Primary']),\n dict_keys(['Primary']),\n dict_keys(['Primary']),\n dict_keys(['Primary']),\n dict_keys(['Primary']),\n dict_keys(['Primary']),\n dict_keys(['Primary']),\n dict_keys(['Primary']),\n dict_keys(['Primary']),\n dict_keys(['Primary']),\n dict_keys(['Primary']),\n dict_keys(['Primary']),\n dict_keys(['Primary']),\n dict_keys(['Primary']),\n dict_keys(['Primary']),\n dict_keys(['Primary']),\n dict_keys(['Primary']),\n dict_keys(['Primary']),\n dict_keys(['Primary']),\n dict_keys(['Primary']),\n dict_keys(['Primary']),\n dict_keys(['Primary']),\n dict_keys(['Primary']),\n dict_keys(['Primary']),\n dict_keys(['Primary']),\n dict_keys(['Primary']),\n dict_keys(['Primary']),\n dict_keys(['Primary']),\n dict_keys(['Primary']),\n dict_keys(['Primary']),\n dict_keys(['Primary']),\n dict_keys(['Primary']),\n dict_keys(['Primary']),\n dict_keys(['Primary']),\n dict_keys(['Primary']),\n dict_keys(['Primary']),\n dict_keys(['Primary']),\n dict_keys(['Primary']),\n dict_keys(['Primary']),\n dict_keys(['Primary']),\n dict_keys(['Primary']),\n dict_keys(['Primary']),\n dict_keys(['Primary']),\n dict_keys(['Primary']),\n dict_keys(['Primary']),\n dict_keys(['Primary']),\n dict_keys(['Primary']),\n dict_keys(['Primary']),\n dict_keys(['Primary']),\n dict_keys(['Primary']),\n dict_keys(['Primary']),\n dict_keys(['Primary']),\n dict_keys(['Primary']),\n dict_keys(['Primary']),\n dict_keys(['Primary']),\n dict_keys(['Primary']),\n dict_keys(['Primary']),\n dict_keys(['Primary']),\n dict_keys(['Primary']),\n dict_keys(['Primary']),\n dict_keys(['Primary']),\n dict_keys(['Primary']),\n dict_keys(['Primary']),\n dict_keys(['Primary']),\n dict_keys(['Primary']),\n dict_keys(['Primary']),\n dict_keys(['Primary']),\n dict_keys(['Primary']),\n dict_keys(['Primary']),\n dict_keys(['Primary']),\n dict_keys(['Primary']),\n dict_keys(['Primary']),\n dict_keys(['Primary']),\n dict_keys(['Primary']),\n dict_keys(['Primary']),\n dict_keys(['Primary']),\n dict_keys(['Primary']),\n dict_keys(['Primary']),\n dict_keys(['Primary']),\n dict_keys(['Primary']),\n dict_keys(['Primary']),\n dict_keys(['Primary']),\n dict_keys(['Primary']),\n dict_keys(['Primary']),\n dict_keys(['Primary']),\n dict_keys(['Primary']),\n dict_keys(['Primary']),\n dict_keys(['Primary']),\n dict_keys(['Primary']),\n dict_keys(['Primary']),\n dict_keys(['Primary']),\n dict_keys(['Primary']),\n dict_keys(['Primary']),\n dict_keys(['Primary']),\n dict_keys(['Primary']),\n dict_keys(['Primary']),\n dict_keys(['Primary']),\n dict_keys(['Primary']),\n dict_keys(['Primary']),\n dict_keys(['Primary']),\n dict_keys(['Primary']),\n dict_keys(['Primary']),\n dict_keys(['Primary']),\n dict_keys(['Primary']),\n dict_keys(['Primary']),\n dict_keys(['Primary']),\n dict_keys(['Primary']),\n dict_keys(['Primary']),\n dict_keys(['Primary']),\n dict_keys(['Primary']),\n dict_keys(['Primary']),\n dict_keys(['Primary']),\n dict_keys(['Primary']),\n dict_keys(['Primary']),\n dict_keys(['Primary']),\n dict_keys(['Primary']),\n dict_keys(['Primary']),\n dict_keys(['Primary']),\n dict_keys(['Primary']),\n dict_keys(['Secondary']),\n dict_keys(['Secondary']),\n dict_keys(['Secondary']),\n dict_keys(['Secondary']),\n dict_keys(['Secondary']),\n dict_keys(['Secondary']),\n dict_keys(['Secondary']),\n dict_keys(['Secondary']),\n dict_keys(['Secondary', 'Junior College']),\n dict_keys(['Secondary']),\n dict_keys(['Secondary']),\n dict_keys(['Secondary']),\n dict_keys(['Secondary']),\n dict_keys(['Secondary']),\n dict_keys(['Secondary']),\n dict_keys(['Secondary']),\n dict_keys(['Secondary']),\n dict_keys(['Secondary']),\n dict_keys(['Secondary']),\n dict_keys(['Secondary']),\n dict_keys(['Secondary']),\n dict_keys(['Secondary']),\n dict_keys(['Secondary']),\n dict_keys(['Secondary']),\n dict_keys(['Secondary']),\n dict_keys(['Secondary']),\n dict_keys(['Secondary']),\n dict_keys(['Secondary']),\n dict_keys(['Secondary']),\n dict_keys(['Secondary']),\n dict_keys(['Secondary']),\n dict_keys(['Secondary']),\n dict_keys(['Secondary']),\n dict_keys(['Secondary']),\n dict_keys(['Secondary']),\n dict_keys(['Secondary']),\n dict_keys(['Secondary']),\n dict_keys(['Secondary']),\n dict_keys(['Secondary']),\n dict_keys(['Secondary']),\n dict_keys(['Secondary']),\n dict_keys(['Secondary']),\n dict_keys(['Secondary']),\n dict_keys(['Secondary']),\n dict_keys(['Secondary']),\n dict_keys(['Secondary']),\n dict_keys(['Secondary']),\n dict_keys(['Secondary']),\n dict_keys(['Secondary']),\n dict_keys(['Secondary']),\n dict_keys(['Secondary']),\n dict_keys(['Secondary']),\n dict_keys(['Secondary']),\n dict_keys(['Secondary']),\n dict_keys(['Secondary', 'Junior College']),\n dict_keys(['Secondary', 'Junior College']),\n dict_keys(['Secondary']),\n dict_keys(['Secondary']),\n dict_keys(['Secondary']),\n dict_keys(['Secondary']),\n dict_keys(['Secondary']),\n dict_keys(['Secondary']),\n dict_keys(['Secondary']),\n dict_keys(['Secondary']),\n dict_keys(['Secondary']),\n dict_keys(['Secondary']),\n dict_keys(['Secondary']),\n dict_keys(['Secondary']),\n dict_keys(['Secondary']),\n dict_keys(['Secondary']),\n dict_keys(['Secondary']),\n dict_keys(['Secondary']),\n dict_keys(['Secondary']),\n dict_keys(['Secondary']),\n dict_keys(['Secondary']),\n dict_keys(['Secondary']),\n dict_keys(['Secondary']),\n dict_keys(['Secondary']),\n dict_keys(['Secondary']),\n dict_keys(['Secondary']),\n dict_keys(['Secondary']),\n dict_keys(['Secondary']),\n dict_keys(['Secondary']),\n dict_keys(['Secondary']),\n dict_keys(['Secondary']),\n dict_keys(['Secondary']),\n dict_keys(['Secondary']),\n dict_keys(['Secondary']),\n dict_keys(['Secondary']),\n dict_keys(['Secondary']),\n dict_keys(['Secondary']),\n dict_keys(['Secondary']),\n dict_keys(['Secondary']),\n dict_keys(['Secondary']),\n dict_keys(['Secondary']),\n dict_keys(['Secondary']),\n dict_keys(['Secondary']),\n dict_keys(['Secondary']),\n dict_keys(['Secondary']),\n dict_keys(['Secondary']),\n dict_keys(['Secondary']),\n dict_keys(['Secondary']),\n dict_keys(['Secondary']),\n dict_keys(['Secondary']),\n dict_keys(['Secondary']),\n dict_keys(['Secondary']),\n dict_keys(['Primary']),\n dict_keys(['Primary']),\n dict_keys(['Primary']),\n dict_keys(['Primary']),\n dict_keys(['Primary']),\n dict_keys(['Primary']),\n dict_keys(['Primary']),\n dict_keys(['Primary']),\n dict_keys(['Primary']),\n dict_keys(['Primary']),\n dict_keys(['Primary']),\n dict_keys(['Primary']),\n dict_keys(['Primary']),\n dict_keys(['Primary']),\n dict_keys(['Primary']),\n dict_keys(['Primary']),\n dict_keys(['Primary']),\n dict_keys(['Primary']),\n dict_keys(['Primary']),\n dict_keys(['Primary']),\n dict_keys(['Primary']),\n dict_keys(['Primary']),\n dict_keys(['Primary']),\n dict_keys(['Primary']),\n dict_keys(['Primary']),\n dict_keys(['Primary']),\n dict_keys(['Primary']),\n dict_keys(['Primary']),\n dict_keys(['Primary']),\n dict_keys(['Primary']),\n dict_keys(['Primary']),\n dict_keys(['Primary']),\n dict_keys(['Primary']),\n dict_keys(['Primary']),\n dict_keys(['Primary']),\n dict_keys(['Primary']),\n dict_keys(['Primary']),\n dict_keys(['Primary']),\n dict_keys(['Primary']),\n dict_keys(['Primary']),\n dict_keys(['Primary']),\n dict_keys(['Primary']),\n dict_keys(['Secondary', 'Junior College']),\n dict_keys(['Secondary']),\n dict_keys(['Secondary']),\n dict_keys(['Secondary']),\n dict_keys(['Secondary']),\n dict_keys(['Secondary']),\n dict_keys(['Secondary']),\n dict_keys(['Secondary']),\n dict_keys(['Secondary']),\n dict_keys(['Secondary']),\n dict_keys(['Secondary']),\n dict_keys(['Secondary', 'Junior College']),\n dict_keys(['Secondary']),\n dict_keys(['Secondary']),\n dict_keys(['Secondary']),\n dict_keys(['Secondary']),\n dict_keys(['Secondary']),\n dict_keys(['Secondary']),\n dict_keys(['Secondary']),\n dict_keys(['Secondary']),\n dict_keys(['Secondary']),\n dict_keys(['Secondary']),\n dict_keys(['Secondary']),\n dict_keys(['Secondary']),\n dict_keys(['Primary', 'Secondary']),\n dict_keys(['Secondary']),\n dict_keys(['Secondary']),\n dict_keys(['Secondary']),\n dict_keys(['Primary', 'Secondary']),\n dict_keys(['Secondary']),\n dict_keys(['Secondary']),\n dict_keys(['Primary', 'Secondary']),\n dict_keys(['Primary']),\n dict_keys(['Secondary']),\n dict_keys(['Secondary']),\n dict_keys(['Secondary']),\n dict_keys(['Secondary']),\n dict_keys(['Secondary', 'Junior College']),\n dict_keys(['Secondary', 'Junior College']),\n dict_keys(['Secondary', 'Junior College']),\n dict_keys(['Secondary']),\n dict_keys(['Secondary']),\n dict_keys(['Secondary']),\n dict_keys(['Secondary']),\n dict_keys(['Secondary'])]"
     },
     "metadata": {},
     "execution_count": 15
    }
   ],
   "source": [
    "keys"
   ]
  }
 ]
}