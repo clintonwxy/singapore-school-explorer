{
 "cells": [
  {
   "cell_type": "code",
   "execution_count": 12,
   "metadata": {},
   "outputs": [],
   "source": [
    "import json\n",
    "import networkx as nx\n",
    "import matplotlib.pyplot as plt"
   ]
  },
  {
   "cell_type": "code",
   "execution_count": 2,
   "metadata": {},
   "outputs": [],
   "source": [
    "with open(\"../data/all-schools-info.json\") as fp:\n",
    "    data = json.load(fp)\n",
    "    fp.close()"
   ]
  },
  {
   "cell_type": "code",
   "execution_count": 3,
   "metadata": {},
   "outputs": [],
   "source": [
    "affiliation = [[v[\"name\"], v[\"GeneralInformation\"][\"Affiliated Schools\"]] for k, v in data.items()]"
   ]
  },
  {
   "cell_type": "code",
   "execution_count": 32,
   "metadata": {},
   "outputs": [],
   "source": [
    "g = nx.Graph()"
   ]
  },
  {
   "cell_type": "code",
   "execution_count": 27,
   "metadata": {},
   "outputs": [],
   "source": [
    "links = []\n",
    "for school in affiliation:\n",
    "    if school[1] != 'Not Applicable':\n",
    "        if type(school[1]) == str:\n",
    "            links.append([school[0], school[1]])\n",
    "        else:\n",
    "            for affSchool in school[1]:\n",
    "                links.append([school[0], affSchool])"
   ]
  },
  {
   "cell_type": "code",
   "execution_count": 33,
   "metadata": {},
   "outputs": [],
   "source": [
    "g.add_edges_from(links)"
   ]
  },
  {
   "cell_type": "code",
   "execution_count": 34,
   "metadata": {},
   "outputs": [
    {
     "output_type": "display_data",
     "data": {
      "text/plain": "<Figure size 432x288 with 1 Axes>",
      "image/svg+xml": "<?xml version=\"1.0\" encoding=\"utf-8\" standalone=\"no\"?>\r\n<!DOCTYPE svg PUBLIC \"-//W3C//DTD SVG 1.1//EN\"\r\n  \"http://www.w3.org/Graphics/SVG/1.1/DTD/svg11.dtd\">\r\n<!-- Created with matplotlib (https://matplotlib.org/) -->\r\n<svg height=\"302.4pt\" version=\"1.1\" viewBox=\"0 0 446.4 302.4\" width=\"446.4pt\" xmlns=\"http://www.w3.org/2000/svg\" xmlns:xlink=\"http://www.w3.org/1999/xlink\">\r\n <defs>\r\n  <style type=\"text/css\">\r\n*{stroke-linecap:butt;stroke-linejoin:round;white-space:pre;}\r\n  </style>\r\n </defs>\r\n <g id=\"figure_1\">\r\n  <g id=\"patch_1\">\r\n   <path d=\"M 0 302.4 \r\nL 446.4 302.4 \r\nL 446.4 0 \r\nL 0 0 \r\nz\r\n\" style=\"fill:#ffffff;\"/>\r\n  </g>\r\n  <g id=\"axes_1\">\r\n   <g id=\"LineCollection_1\">\r\n    <path clip-path=\"url(#pf34c9b0ef0)\" d=\"M 145.529351 42.837766 \r\nL 140.740932 36.171362 \r\n\" style=\"fill:none;stroke:#000000;\"/>\r\n    <path clip-path=\"url(#pf34c9b0ef0)\" d=\"M 192.799711 163.117944 \r\nL 189.34105 154.802451 \r\n\" style=\"fill:none;stroke:#000000;\"/>\r\n    <path clip-path=\"url(#pf34c9b0ef0)\" d=\"M 192.799711 163.117944 \r\nL 172.148499 155.528617 \r\n\" style=\"fill:none;stroke:#000000;\"/>\r\n    <path clip-path=\"url(#pf34c9b0ef0)\" d=\"M 192.799711 163.117944 \r\nL 196.668634 178.95522 \r\n\" style=\"fill:none;stroke:#000000;\"/>\r\n    <path clip-path=\"url(#pf34c9b0ef0)\" d=\"M 192.799711 163.117944 \r\nL 182.102579 177.534022 \r\n\" style=\"fill:none;stroke:#000000;\"/>\r\n    <path clip-path=\"url(#pf34c9b0ef0)\" d=\"M 192.799711 163.117944 \r\nL 213.882227 150.843444 \r\n\" style=\"fill:none;stroke:#000000;\"/>\r\n    <path clip-path=\"url(#pf34c9b0ef0)\" d=\"M 192.799711 163.117944 \r\nL 195.583271 147.295302 \r\n\" style=\"fill:none;stroke:#000000;\"/>\r\n    <path clip-path=\"url(#pf34c9b0ef0)\" d=\"M 192.799711 163.117944 \r\nL 177.077178 146.32458 \r\n\" style=\"fill:none;stroke:#000000;\"/>\r\n    <path clip-path=\"url(#pf34c9b0ef0)\" d=\"M 192.799711 163.117944 \r\nL 219.244782 170.884572 \r\n\" style=\"fill:none;stroke:#000000;\"/>\r\n    <path clip-path=\"url(#pf34c9b0ef0)\" d=\"M 192.799711 163.117944 \r\nL 220.247364 168.491713 \r\n\" style=\"fill:none;stroke:#000000;\"/>\r\n    <path clip-path=\"url(#pf34c9b0ef0)\" d=\"M 192.799711 163.117944 \r\nL 166.775516 172.588827 \r\n\" style=\"fill:none;stroke:#000000;\"/>\r\n    <path clip-path=\"url(#pf34c9b0ef0)\" d=\"M 192.799711 163.117944 \r\nL 181.385235 162.219113 \r\n\" style=\"fill:none;stroke:#000000;\"/>\r\n    <path clip-path=\"url(#pf34c9b0ef0)\" d=\"M 192.799711 163.117944 \r\nL 199.71283 169.852166 \r\n\" style=\"fill:none;stroke:#000000;\"/>\r\n    <path clip-path=\"url(#pf34c9b0ef0)\" d=\"M 192.799711 163.117944 \r\nL 169.454043 163.065971 \r\n\" style=\"fill:none;stroke:#000000;\"/>\r\n    <path clip-path=\"url(#pf34c9b0ef0)\" d=\"M 192.799711 163.117944 \r\nL 202.357924 158.00883 \r\n\" style=\"fill:none;stroke:#000000;\"/>\r\n    <path clip-path=\"url(#pf34c9b0ef0)\" d=\"M 192.799711 163.117944 \r\nL 185.797939 170.123475 \r\n\" style=\"fill:none;stroke:#000000;\"/>\r\n    <path clip-path=\"url(#pf34c9b0ef0)\" d=\"M 172.148499 155.528617 \r\nL 155.696099 150.486382 \r\n\" style=\"fill:none;stroke:#000000;\"/>\r\n    <path clip-path=\"url(#pf34c9b0ef0)\" d=\"M 196.668634 178.95522 \r\nL 198.311517 190.590397 \r\n\" style=\"fill:none;stroke:#000000;\"/>\r\n    <path clip-path=\"url(#pf34c9b0ef0)\" d=\"M 182.102579 177.534022 \r\nL 173.755072 188.042711 \r\n\" style=\"fill:none;stroke:#000000;\"/>\r\n    <path clip-path=\"url(#pf34c9b0ef0)\" d=\"M 213.882227 150.843444 \r\nL 221.977642 140.894841 \r\n\" style=\"fill:none;stroke:#000000;\"/>\r\n    <path clip-path=\"url(#pf34c9b0ef0)\" d=\"M 213.882227 150.843444 \r\nL 228.880858 145.713009 \r\n\" style=\"fill:none;stroke:#000000;\"/>\r\n    <path clip-path=\"url(#pf34c9b0ef0)\" d=\"M 195.583271 147.295302 \r\nL 196.33069 135.504625 \r\n\" style=\"fill:none;stroke:#000000;\"/>\r\n    <path clip-path=\"url(#pf34c9b0ef0)\" d=\"M 177.077178 146.32458 \r\nL 163.35496 138.364485 \r\n\" style=\"fill:none;stroke:#000000;\"/>\r\n    <path clip-path=\"url(#pf34c9b0ef0)\" d=\"M 177.077178 146.32458 \r\nL 170.629916 134.884534 \r\n\" style=\"fill:none;stroke:#000000;\"/>\r\n    <path clip-path=\"url(#pf34c9b0ef0)\" d=\"M 219.244782 170.884572 \r\nL 233.823932 170.711826 \r\n\" style=\"fill:none;stroke:#000000;\"/>\r\n    <path clip-path=\"url(#pf34c9b0ef0)\" d=\"M 219.244782 170.884572 \r\nL 231.248291 166.495407 \r\n\" style=\"fill:none;stroke:#000000;\"/>\r\n    <path clip-path=\"url(#pf34c9b0ef0)\" d=\"M 219.244782 170.884572 \r\nL 232.33458 174.874715 \r\n\" style=\"fill:none;stroke:#000000;\"/>\r\n    <path clip-path=\"url(#pf34c9b0ef0)\" d=\"M 219.244782 170.884572 \r\nL 226.467995 177.314556 \r\n\" style=\"fill:none;stroke:#000000;\"/>\r\n    <path clip-path=\"url(#pf34c9b0ef0)\" d=\"M 220.247364 168.491713 \r\nL 233.823932 170.711826 \r\n\" style=\"fill:none;stroke:#000000;\"/>\r\n    <path clip-path=\"url(#pf34c9b0ef0)\" d=\"M 220.247364 168.491713 \r\nL 231.248291 166.495407 \r\n\" style=\"fill:none;stroke:#000000;\"/>\r\n    <path clip-path=\"url(#pf34c9b0ef0)\" d=\"M 220.247364 168.491713 \r\nL 232.33458 174.874715 \r\n\" style=\"fill:none;stroke:#000000;\"/>\r\n    <path clip-path=\"url(#pf34c9b0ef0)\" d=\"M 220.247364 168.491713 \r\nL 226.467995 177.314556 \r\n\" style=\"fill:none;stroke:#000000;\"/>\r\n    <path clip-path=\"url(#pf34c9b0ef0)\" d=\"M 166.775516 172.588827 \r\nL 153.165493 180.654597 \r\n\" style=\"fill:none;stroke:#000000;\"/>\r\n    <path clip-path=\"url(#pf34c9b0ef0)\" d=\"M 166.775516 172.588827 \r\nL 148.898971 175.262296 \r\n\" style=\"fill:none;stroke:#000000;\"/>\r\n    <path clip-path=\"url(#pf34c9b0ef0)\" d=\"M 199.71283 169.852166 \r\nL 199.71283 169.852166 \r\n\" style=\"fill:none;stroke:#000000;\"/>\r\n    <path clip-path=\"url(#pf34c9b0ef0)\" d=\"M 169.454043 163.065971 \r\nL 151.948064 162.424841 \r\n\" style=\"fill:none;stroke:#000000;\"/>\r\n    <path clip-path=\"url(#pf34c9b0ef0)\" d=\"M 202.357924 158.00883 \r\nL 202.357924 158.00883 \r\n\" style=\"fill:none;stroke:#000000;\"/>\r\n    <path clip-path=\"url(#pf34c9b0ef0)\" d=\"M 185.797939 170.123475 \r\nL 185.797939 170.123475 \r\n\" style=\"fill:none;stroke:#000000;\"/>\r\n    <path clip-path=\"url(#pf34c9b0ef0)\" d=\"M 220.300605 256.390821 \r\nL 209.518253 255.223497 \r\n\" style=\"fill:none;stroke:#000000;\"/>\r\n    <path clip-path=\"url(#pf34c9b0ef0)\" d=\"M 220.300605 256.390821 \r\nL 198.469215 257.835373 \r\n\" style=\"fill:none;stroke:#000000;\"/>\r\n    <path clip-path=\"url(#pf34c9b0ef0)\" d=\"M 220.300605 256.390821 \r\nL 233.957797 268.076812 \r\n\" style=\"fill:none;stroke:#000000;\"/>\r\n    <path clip-path=\"url(#pf34c9b0ef0)\" d=\"M 220.300605 256.390821 \r\nL 220.86969 269.265436 \r\n\" style=\"fill:none;stroke:#000000;\"/>\r\n    <path clip-path=\"url(#pf34c9b0ef0)\" d=\"M 220.300605 256.390821 \r\nL 209.754354 259.817084 \r\n\" style=\"fill:none;stroke:#000000;\"/>\r\n    <path clip-path=\"url(#pf34c9b0ef0)\" d=\"M 220.300605 256.390821 \r\nL 234.376536 246.000234 \r\n\" style=\"fill:none;stroke:#000000;\"/>\r\n    <path clip-path=\"url(#pf34c9b0ef0)\" d=\"M 209.518253 255.223497 \r\nL 201.902853 254.144557 \r\n\" style=\"fill:none;stroke:#000000;\"/>\r\n    <path clip-path=\"url(#pf34c9b0ef0)\" d=\"M 209.518253 255.223497 \r\nL 204.402139 264.633611 \r\n\" style=\"fill:none;stroke:#000000;\"/>\r\n    <path clip-path=\"url(#pf34c9b0ef0)\" d=\"M 198.469215 257.835373 \r\nL 183.884581 261.89367 \r\n\" style=\"fill:none;stroke:#000000;\"/>\r\n    <path clip-path=\"url(#pf34c9b0ef0)\" d=\"M 233.957797 268.076812 \r\nL 242.250407 278.095351 \r\n\" style=\"fill:none;stroke:#000000;\"/>\r\n    <path clip-path=\"url(#pf34c9b0ef0)\" d=\"M 220.86969 269.265436 \r\nL 217.378155 276.810045 \r\n\" style=\"fill:none;stroke:#000000;\"/>\r\n    <path clip-path=\"url(#pf34c9b0ef0)\" d=\"M 209.754354 259.817084 \r\nL 201.902853 254.144557 \r\n\" style=\"fill:none;stroke:#000000;\"/>\r\n    <path clip-path=\"url(#pf34c9b0ef0)\" d=\"M 209.754354 259.817084 \r\nL 204.402139 264.633611 \r\n\" style=\"fill:none;stroke:#000000;\"/>\r\n    <path clip-path=\"url(#pf34c9b0ef0)\" d=\"M 234.376536 246.000234 \r\nL 244.104679 235.823498 \r\n\" style=\"fill:none;stroke:#000000;\"/>\r\n    <path clip-path=\"url(#pf34c9b0ef0)\" d=\"M 294.458439 85.09827 \r\nL 282.165559 76.644526 \r\n\" style=\"fill:none;stroke:#000000;\"/>\r\n    <path clip-path=\"url(#pf34c9b0ef0)\" d=\"M 294.458439 85.09827 \r\nL 278.474396 84.826667 \r\n\" style=\"fill:none;stroke:#000000;\"/>\r\n    <path clip-path=\"url(#pf34c9b0ef0)\" d=\"M 294.458439 85.09827 \r\nL 302.180796 89.446119 \r\n\" style=\"fill:none;stroke:#000000;\"/>\r\n    <path clip-path=\"url(#pf34c9b0ef0)\" d=\"M 294.458439 85.09827 \r\nL 311.170422 92.432889 \r\n\" style=\"fill:none;stroke:#000000;\"/>\r\n    <path clip-path=\"url(#pf34c9b0ef0)\" d=\"M 294.458439 85.09827 \r\nL 307.17058 83.785967 \r\n\" style=\"fill:none;stroke:#000000;\"/>\r\n    <path clip-path=\"url(#pf34c9b0ef0)\" d=\"M 294.458439 85.09827 \r\nL 306.31852 77.619402 \r\n\" style=\"fill:none;stroke:#000000;\"/>\r\n    <path clip-path=\"url(#pf34c9b0ef0)\" d=\"M 294.458439 85.09827 \r\nL 300.839062 72.553329 \r\n\" style=\"fill:none;stroke:#000000;\"/>\r\n    <path clip-path=\"url(#pf34c9b0ef0)\" d=\"M 282.165559 76.644526 \r\nL 274.555935 68.420599 \r\n\" style=\"fill:none;stroke:#000000;\"/>\r\n    <path clip-path=\"url(#pf34c9b0ef0)\" d=\"M 278.474396 84.826667 \r\nL 266.611431 81.345834 \r\n\" style=\"fill:none;stroke:#000000;\"/>\r\n    <path clip-path=\"url(#pf34c9b0ef0)\" d=\"M 311.170422 92.432889 \r\nL 325.869742 93.968412 \r\n\" style=\"fill:none;stroke:#000000;\"/>\r\n    <path clip-path=\"url(#pf34c9b0ef0)\" d=\"M 300.839062 72.553329 \r\nL 309.51545 62.74967 \r\n\" style=\"fill:none;stroke:#000000;\"/>\r\n    <path clip-path=\"url(#pf34c9b0ef0)\" d=\"M 356.068088 220.434345 \r\nL 341.472037 214.624997 \r\n\" style=\"fill:none;stroke:#000000;\"/>\r\n    <path clip-path=\"url(#pf34c9b0ef0)\" d=\"M 356.068088 220.434345 \r\nL 366.664752 224.91891 \r\n\" style=\"fill:none;stroke:#000000;\"/>\r\n    <path clip-path=\"url(#pf34c9b0ef0)\" d=\"M 44.331441 136.39266 \r\nL 30.69776 135.283519 \r\n\" style=\"fill:none;stroke:#000000;\"/>\r\n    <path clip-path=\"url(#pf34c9b0ef0)\" d=\"M 415.70224 142.32544 \r\nL 401.248001 141.136251 \r\n\" style=\"fill:none;stroke:#000000;\"/>\r\n    <path clip-path=\"url(#pf34c9b0ef0)\" d=\"M 401.248001 141.136251 \r\nL 405.067555 135.039072 \r\n\" style=\"fill:none;stroke:#000000;\"/>\r\n    <path clip-path=\"url(#pf34c9b0ef0)\" d=\"M 47.94799 75.444452 \r\nL 43.275054 80.209569 \r\n\" style=\"fill:none;stroke:#000000;\"/>\r\n    <path clip-path=\"url(#pf34c9b0ef0)\" d=\"M 271.62323 31.717611 \r\nL 273.604694 24.304649 \r\n\" style=\"fill:none;stroke:#000000;\"/>\r\n   </g>\r\n   <g id=\"PathCollection_1\">\r\n    <defs>\r\n     <path d=\"M 0 8.660254 \r\nC 2.296726 8.660254 4.499694 7.747755 6.123724 6.123724 \r\nC 7.747755 4.499694 8.660254 2.296726 8.660254 0 \r\nC 8.660254 -2.296726 7.747755 -4.499694 6.123724 -6.123724 \r\nC 4.499694 -7.747755 2.296726 -8.660254 0 -8.660254 \r\nC -2.296726 -8.660254 -4.499694 -7.747755 -6.123724 -6.123724 \r\nC -7.747755 -4.499694 -8.660254 -2.296726 -8.660254 0 \r\nC -8.660254 2.296726 -7.747755 4.499694 -6.123724 6.123724 \r\nC -4.499694 7.747755 -2.296726 8.660254 0 8.660254 \r\nz\r\n\" id=\"ma2e9e00aaa\" style=\"stroke:#1f78b4;\"/>\r\n    </defs>\r\n    <g clip-path=\"url(#pf34c9b0ef0)\">\r\n     <use style=\"fill:#1f78b4;stroke:#1f78b4;\" x=\"145.529351\" xlink:href=\"#ma2e9e00aaa\" y=\"42.837766\"/>\r\n     <use style=\"fill:#1f78b4;stroke:#1f78b4;\" x=\"140.740932\" xlink:href=\"#ma2e9e00aaa\" y=\"36.171362\"/>\r\n     <use style=\"fill:#1f78b4;stroke:#1f78b4;\" x=\"192.799711\" xlink:href=\"#ma2e9e00aaa\" y=\"163.117944\"/>\r\n     <use style=\"fill:#1f78b4;stroke:#1f78b4;\" x=\"189.34105\" xlink:href=\"#ma2e9e00aaa\" y=\"154.802451\"/>\r\n     <use style=\"fill:#1f78b4;stroke:#1f78b4;\" x=\"172.148499\" xlink:href=\"#ma2e9e00aaa\" y=\"155.528617\"/>\r\n     <use style=\"fill:#1f78b4;stroke:#1f78b4;\" x=\"196.668634\" xlink:href=\"#ma2e9e00aaa\" y=\"178.95522\"/>\r\n     <use style=\"fill:#1f78b4;stroke:#1f78b4;\" x=\"182.102579\" xlink:href=\"#ma2e9e00aaa\" y=\"177.534022\"/>\r\n     <use style=\"fill:#1f78b4;stroke:#1f78b4;\" x=\"213.882227\" xlink:href=\"#ma2e9e00aaa\" y=\"150.843444\"/>\r\n     <use style=\"fill:#1f78b4;stroke:#1f78b4;\" x=\"195.583271\" xlink:href=\"#ma2e9e00aaa\" y=\"147.295302\"/>\r\n     <use style=\"fill:#1f78b4;stroke:#1f78b4;\" x=\"177.077178\" xlink:href=\"#ma2e9e00aaa\" y=\"146.32458\"/>\r\n     <use style=\"fill:#1f78b4;stroke:#1f78b4;\" x=\"219.244782\" xlink:href=\"#ma2e9e00aaa\" y=\"170.884572\"/>\r\n     <use style=\"fill:#1f78b4;stroke:#1f78b4;\" x=\"220.247364\" xlink:href=\"#ma2e9e00aaa\" y=\"168.491713\"/>\r\n     <use style=\"fill:#1f78b4;stroke:#1f78b4;\" x=\"166.775516\" xlink:href=\"#ma2e9e00aaa\" y=\"172.588827\"/>\r\n     <use style=\"fill:#1f78b4;stroke:#1f78b4;\" x=\"181.385235\" xlink:href=\"#ma2e9e00aaa\" y=\"162.219113\"/>\r\n     <use style=\"fill:#1f78b4;stroke:#1f78b4;\" x=\"199.71283\" xlink:href=\"#ma2e9e00aaa\" y=\"169.852166\"/>\r\n     <use style=\"fill:#1f78b4;stroke:#1f78b4;\" x=\"169.454043\" xlink:href=\"#ma2e9e00aaa\" y=\"163.065971\"/>\r\n     <use style=\"fill:#1f78b4;stroke:#1f78b4;\" x=\"202.357924\" xlink:href=\"#ma2e9e00aaa\" y=\"158.00883\"/>\r\n     <use style=\"fill:#1f78b4;stroke:#1f78b4;\" x=\"185.797939\" xlink:href=\"#ma2e9e00aaa\" y=\"170.123475\"/>\r\n     <use style=\"fill:#1f78b4;stroke:#1f78b4;\" x=\"220.300605\" xlink:href=\"#ma2e9e00aaa\" y=\"256.390821\"/>\r\n     <use style=\"fill:#1f78b4;stroke:#1f78b4;\" x=\"209.518253\" xlink:href=\"#ma2e9e00aaa\" y=\"255.223497\"/>\r\n     <use style=\"fill:#1f78b4;stroke:#1f78b4;\" x=\"198.469215\" xlink:href=\"#ma2e9e00aaa\" y=\"257.835373\"/>\r\n     <use style=\"fill:#1f78b4;stroke:#1f78b4;\" x=\"233.957797\" xlink:href=\"#ma2e9e00aaa\" y=\"268.076812\"/>\r\n     <use style=\"fill:#1f78b4;stroke:#1f78b4;\" x=\"220.86969\" xlink:href=\"#ma2e9e00aaa\" y=\"269.265436\"/>\r\n     <use style=\"fill:#1f78b4;stroke:#1f78b4;\" x=\"209.754354\" xlink:href=\"#ma2e9e00aaa\" y=\"259.817084\"/>\r\n     <use style=\"fill:#1f78b4;stroke:#1f78b4;\" x=\"234.376536\" xlink:href=\"#ma2e9e00aaa\" y=\"246.000234\"/>\r\n     <use style=\"fill:#1f78b4;stroke:#1f78b4;\" x=\"294.458439\" xlink:href=\"#ma2e9e00aaa\" y=\"85.09827\"/>\r\n     <use style=\"fill:#1f78b4;stroke:#1f78b4;\" x=\"282.165559\" xlink:href=\"#ma2e9e00aaa\" y=\"76.644526\"/>\r\n     <use style=\"fill:#1f78b4;stroke:#1f78b4;\" x=\"278.474396\" xlink:href=\"#ma2e9e00aaa\" y=\"84.826667\"/>\r\n     <use style=\"fill:#1f78b4;stroke:#1f78b4;\" x=\"302.180796\" xlink:href=\"#ma2e9e00aaa\" y=\"89.446119\"/>\r\n     <use style=\"fill:#1f78b4;stroke:#1f78b4;\" x=\"311.170422\" xlink:href=\"#ma2e9e00aaa\" y=\"92.432889\"/>\r\n     <use style=\"fill:#1f78b4;stroke:#1f78b4;\" x=\"307.17058\" xlink:href=\"#ma2e9e00aaa\" y=\"83.785967\"/>\r\n     <use style=\"fill:#1f78b4;stroke:#1f78b4;\" x=\"306.31852\" xlink:href=\"#ma2e9e00aaa\" y=\"77.619402\"/>\r\n     <use style=\"fill:#1f78b4;stroke:#1f78b4;\" x=\"300.839062\" xlink:href=\"#ma2e9e00aaa\" y=\"72.553329\"/>\r\n     <use style=\"fill:#1f78b4;stroke:#1f78b4;\" x=\"356.068088\" xlink:href=\"#ma2e9e00aaa\" y=\"220.434345\"/>\r\n     <use style=\"fill:#1f78b4;stroke:#1f78b4;\" x=\"341.472037\" xlink:href=\"#ma2e9e00aaa\" y=\"214.624997\"/>\r\n     <use style=\"fill:#1f78b4;stroke:#1f78b4;\" x=\"366.664752\" xlink:href=\"#ma2e9e00aaa\" y=\"224.91891\"/>\r\n     <use style=\"fill:#1f78b4;stroke:#1f78b4;\" x=\"201.902853\" xlink:href=\"#ma2e9e00aaa\" y=\"254.144557\"/>\r\n     <use style=\"fill:#1f78b4;stroke:#1f78b4;\" x=\"221.977642\" xlink:href=\"#ma2e9e00aaa\" y=\"140.894841\"/>\r\n     <use style=\"fill:#1f78b4;stroke:#1f78b4;\" x=\"155.696099\" xlink:href=\"#ma2e9e00aaa\" y=\"150.486382\"/>\r\n     <use style=\"fill:#1f78b4;stroke:#1f78b4;\" x=\"153.165493\" xlink:href=\"#ma2e9e00aaa\" y=\"180.654597\"/>\r\n     <use style=\"fill:#1f78b4;stroke:#1f78b4;\" x=\"163.35496\" xlink:href=\"#ma2e9e00aaa\" y=\"138.364485\"/>\r\n     <use style=\"fill:#1f78b4;stroke:#1f78b4;\" x=\"233.823932\" xlink:href=\"#ma2e9e00aaa\" y=\"170.711826\"/>\r\n     <use style=\"fill:#1f78b4;stroke:#1f78b4;\" x=\"274.555935\" xlink:href=\"#ma2e9e00aaa\" y=\"68.420599\"/>\r\n     <use style=\"fill:#1f78b4;stroke:#1f78b4;\" x=\"228.880858\" xlink:href=\"#ma2e9e00aaa\" y=\"145.713009\"/>\r\n     <use style=\"fill:#1f78b4;stroke:#1f78b4;\" x=\"196.33069\" xlink:href=\"#ma2e9e00aaa\" y=\"135.504625\"/>\r\n     <use style=\"fill:#1f78b4;stroke:#1f78b4;\" x=\"266.611431\" xlink:href=\"#ma2e9e00aaa\" y=\"81.345834\"/>\r\n     <use style=\"fill:#1f78b4;stroke:#1f78b4;\" x=\"231.248291\" xlink:href=\"#ma2e9e00aaa\" y=\"166.495407\"/>\r\n     <use style=\"fill:#1f78b4;stroke:#1f78b4;\" x=\"232.33458\" xlink:href=\"#ma2e9e00aaa\" y=\"174.874715\"/>\r\n     <use style=\"fill:#1f78b4;stroke:#1f78b4;\" x=\"170.629916\" xlink:href=\"#ma2e9e00aaa\" y=\"134.884534\"/>\r\n     <use style=\"fill:#1f78b4;stroke:#1f78b4;\" x=\"173.755072\" xlink:href=\"#ma2e9e00aaa\" y=\"188.042711\"/>\r\n     <use style=\"fill:#1f78b4;stroke:#1f78b4;\" x=\"148.898971\" xlink:href=\"#ma2e9e00aaa\" y=\"175.262296\"/>\r\n     <use style=\"fill:#1f78b4;stroke:#1f78b4;\" x=\"244.104679\" xlink:href=\"#ma2e9e00aaa\" y=\"235.823498\"/>\r\n     <use style=\"fill:#1f78b4;stroke:#1f78b4;\" x=\"183.884581\" xlink:href=\"#ma2e9e00aaa\" y=\"261.89367\"/>\r\n     <use style=\"fill:#1f78b4;stroke:#1f78b4;\" x=\"325.869742\" xlink:href=\"#ma2e9e00aaa\" y=\"93.968412\"/>\r\n     <use style=\"fill:#1f78b4;stroke:#1f78b4;\" x=\"309.51545\" xlink:href=\"#ma2e9e00aaa\" y=\"62.74967\"/>\r\n     <use style=\"fill:#1f78b4;stroke:#1f78b4;\" x=\"44.331441\" xlink:href=\"#ma2e9e00aaa\" y=\"136.39266\"/>\r\n     <use style=\"fill:#1f78b4;stroke:#1f78b4;\" x=\"30.69776\" xlink:href=\"#ma2e9e00aaa\" y=\"135.283519\"/>\r\n     <use style=\"fill:#1f78b4;stroke:#1f78b4;\" x=\"217.378155\" xlink:href=\"#ma2e9e00aaa\" y=\"276.810045\"/>\r\n     <use style=\"fill:#1f78b4;stroke:#1f78b4;\" x=\"415.70224\" xlink:href=\"#ma2e9e00aaa\" y=\"142.32544\"/>\r\n     <use style=\"fill:#1f78b4;stroke:#1f78b4;\" x=\"401.248001\" xlink:href=\"#ma2e9e00aaa\" y=\"141.136251\"/>\r\n     <use style=\"fill:#1f78b4;stroke:#1f78b4;\" x=\"47.94799\" xlink:href=\"#ma2e9e00aaa\" y=\"75.444452\"/>\r\n     <use style=\"fill:#1f78b4;stroke:#1f78b4;\" x=\"43.275054\" xlink:href=\"#ma2e9e00aaa\" y=\"80.209569\"/>\r\n     <use style=\"fill:#1f78b4;stroke:#1f78b4;\" x=\"271.62323\" xlink:href=\"#ma2e9e00aaa\" y=\"31.717611\"/>\r\n     <use style=\"fill:#1f78b4;stroke:#1f78b4;\" x=\"273.604694\" xlink:href=\"#ma2e9e00aaa\" y=\"24.304649\"/>\r\n     <use style=\"fill:#1f78b4;stroke:#1f78b4;\" x=\"226.467995\" xlink:href=\"#ma2e9e00aaa\" y=\"177.314556\"/>\r\n     <use style=\"fill:#1f78b4;stroke:#1f78b4;\" x=\"405.067555\" xlink:href=\"#ma2e9e00aaa\" y=\"135.039072\"/>\r\n     <use style=\"fill:#1f78b4;stroke:#1f78b4;\" x=\"151.948064\" xlink:href=\"#ma2e9e00aaa\" y=\"162.424841\"/>\r\n     <use style=\"fill:#1f78b4;stroke:#1f78b4;\" x=\"242.250407\" xlink:href=\"#ma2e9e00aaa\" y=\"278.095351\"/>\r\n     <use style=\"fill:#1f78b4;stroke:#1f78b4;\" x=\"198.311517\" xlink:href=\"#ma2e9e00aaa\" y=\"190.590397\"/>\r\n     <use style=\"fill:#1f78b4;stroke:#1f78b4;\" x=\"204.402139\" xlink:href=\"#ma2e9e00aaa\" y=\"264.633611\"/>\r\n    </g>\r\n   </g>\r\n  </g>\r\n </g>\r\n <defs>\r\n  <clipPath id=\"pf34c9b0ef0\">\r\n   <rect height=\"288\" width=\"432\" x=\"7.2\" y=\"7.2\"/>\r\n  </clipPath>\r\n </defs>\r\n</svg>\r\n",
      "image/png": "[encoded data removed]"
     },
     "metadata": {}
    }
   ],
   "source": [
    "nx.draw(g)\n",
    "plt.draw()"
   ]
  },
  {
   "cell_type": "code",
   "execution_count": 35,
   "metadata": {},
   "outputs": [],
   "source": [
    "subgraphs = [sg for sg in nx.connected_components(g)]"
   ]
  },
  {
   "cell_type": "code",
   "execution_count": 40,
   "metadata": {},
   "outputs": [],
   "source": [
    "cluster = {}\n",
    "for i in range(0, len(subgraphs)):\n",
    "    for sch in subgraphs[i]:\n",
    "        cluster[sch] = i + 1"
   ]
  },
  {
   "cell_type": "code",
   "execution_count": 42,
   "metadata": {},
   "outputs": [],
   "source": [
    "def assign_cluster(name, cluster_dict):\n",
    "    if name in cluster_dict.keys():\n",
    "        return cluster_dict[name]\n",
    "    else: \n",
    "        return 0"
   ]
  },
  {
   "cell_type": "code",
   "execution_count": 51,
   "metadata": {},
   "outputs": [],
   "source": [
    "nodes = [{'code': v['code'], 'name': v['name'], 'level': v['levels'], 'cluster': assign_cluster(v['name'], cluster)} for k, v in data.items()]"
   ]
  },
  {
   "cell_type": "code",
   "execution_count": 46,
   "metadata": {},
   "outputs": [],
   "source": [
    "links = [{'source': link[0], 'target': link[1], 'cluster': cluster[link[0]]} for link in links]"
   ]
  },
  {
   "cell_type": "code",
   "execution_count": 52,
   "metadata": {},
   "outputs": [],
   "source": [
    "network_data = {'nodes': nodes, 'links': links}"
   ]
  },
  {
   "cell_type": "code",
   "execution_count": 48,
   "metadata": {},
   "outputs": [
    {
     "output_type": "execute_result",
     "data": {
      "text/plain": "[{'name': 'NATIONAL JUNIOR COLLEGE', 'level': 'SJT', 'cluster': 0},\n {'name': 'TEMASEK JUNIOR COLLEGE', 'level': 'SJT', 'cluster': 0},\n {'name': 'JURONG JUNIOR COLLEGE', 'level': 'J', 'cluster': 0},\n {'name': 'ANDERSON JUNIOR COLLEGE', 'level': 'J', 'cluster': 0},\n {'name': 'VICTORIA JUNIOR COLLEGE', 'level': 'J', 'cluster': 1}]"
     },
     "metadata": {},
     "execution_count": 48
    }
   ],
   "source": [
    "network_data['nodes'][:5]"
   ]
  },
  {
   "cell_type": "code",
   "execution_count": 49,
   "metadata": {},
   "outputs": [
    {
     "output_type": "execute_result",
     "data": {
      "text/plain": "[{'source': 'VICTORIA JUNIOR COLLEGE',\n  'target': 'VICTORIA SCHOOL',\n  'cluster': 1},\n {'source': 'CATHOLIC JUNIOR COLLEGE',\n  'target': 'ASSUMPTION ENGLISH SCHOOL',\n  'cluster': 2},\n {'source': 'CATHOLIC JUNIOR COLLEGE',\n  'target': 'CHIJ SECONDARY (TOA PAYOH)',\n  'cluster': 2},\n {'source': 'CATHOLIC JUNIOR COLLEGE',\n  'target': 'CHIJ KATONG CONVENT',\n  'cluster': 2},\n {'source': 'CATHOLIC JUNIOR COLLEGE',\n  'target': 'MONTFORT SECONDARY SCHOOL',\n  'cluster': 2}]"
     },
     "metadata": {},
     "execution_count": 49
    }
   ],
   "source": [
    "network_data['links'][:5]"
   ]
  },
  {
   "cell_type": "code",
   "execution_count": 53,
   "metadata": {},
   "outputs": [],
   "source": [
    "with open(\"../data/network_data.json\", \"w\") as fp:\n",
    "    json.dump(network_data, fp)"
   ]
  }
 ],
 "metadata": {
  "language_info": {
   "codemirror_mode": {
    "name": "ipython",
    "version": 3
   },
   "file_extension": ".py",
   "mimetype": "text/x-python",
   "name": "python",
   "nbconvert_exporter": "python",
   "pygments_lexer": "ipython3",
   "version": "3.7.3-final"
  },
  "orig_nbformat": 2,
  "kernelspec": {
   "name": "python3",
   "display_name": "Python 3"
  }
 },
 "nbformat": 4,
 "nbformat_minor": 2
}