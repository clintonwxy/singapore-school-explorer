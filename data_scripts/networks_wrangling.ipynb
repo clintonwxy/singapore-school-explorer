{
 "cells": [
  {
   "cell_type": "code",
   "execution_count": 1,
   "metadata": {},
   "outputs": [],
   "source": [
    "import json\n",
    "import networkx as nx\n",
    "import matplotlib.pyplot as plt"
   ]
  },
  {
   "cell_type": "code",
   "execution_count": 2,
   "metadata": {},
   "outputs": [],
   "source": [
    "with open(\"../data/school-info-v4.json\") as fp:\n",
    "    data = json.load(fp)\n",
    "    fp.close()"
   ]
  },
  {
   "cell_type": "code",
   "execution_count": 3,
   "metadata": {},
   "outputs": [],
   "source": [
    "affiliation = [[v[\"name\"], v[\"GeneralInformation\"][\"Affiliated Schools\"]] for k, v in data.items()]"
   ]
  },
  {
   "cell_type": "code",
   "execution_count": 4,
   "metadata": {},
   "outputs": [],
   "source": [
    "g = nx.Graph()"
   ]
  },
  {
   "cell_type": "code",
   "execution_count": 5,
   "metadata": {},
   "outputs": [],
   "source": [
    "links = []\n",
    "for school in affiliation:\n",
    "    if school[1] != 'Not Applicable':\n",
    "        if type(school[1]) == str:\n",
    "            links.append([school[0], school[1]])\n",
    "        else:\n",
    "            for affSchool in school[1]:\n",
    "                links.append([school[0], affSchool])"
   ]
  },
  {
   "cell_type": "code",
   "execution_count": 6,
   "metadata": {},
   "outputs": [],
   "source": [
    "g.add_edges_from(links)"
   ]
  },
  {
   "cell_type": "code",
   "execution_count": 7,
   "metadata": {},
   "outputs": [
    {
     "output_type": "display_data",
     "data": {
      "text/plain": "<Figure size 432x288 with 1 Axes>",
      "image/svg+xml": "<?xml version=\"1.0\" encoding=\"utf-8\" standalone=\"no\"?>\r\n<!DOCTYPE svg PUBLIC \"-//W3C//DTD SVG 1.1//EN\"\r\n  \"http://www.w3.org/Graphics/SVG/1.1/DTD/svg11.dtd\">\r\n<!-- Created with matplotlib (https://matplotlib.org/) -->\r\n<svg height=\"302.4pt\" version=\"1.1\" viewBox=\"0 0 446.4 302.4\" width=\"446.4pt\" xmlns=\"http://www.w3.org/2000/svg\" xmlns:xlink=\"http://www.w3.org/1999/xlink\">\r\n <defs>\r\n  <style type=\"text/css\">\r\n*{stroke-linecap:butt;stroke-linejoin:round;white-space:pre;}\r\n  </style>\r\n </defs>\r\n <g id=\"figure_1\">\r\n  <g id=\"patch_1\">\r\n   <path d=\"M 0 302.4 \r\nL 446.4 302.4 \r\nL 446.4 0 \r\nL 0 0 \r\nz\r\n\" style=\"fill:#ffffff;\"/>\r\n  </g>\r\n  <g id=\"axes_1\">\r\n   <g id=\"LineCollection_1\">\r\n    <path clip-path=\"url(#pd67e1f1c6b)\" d=\"M 161.069477 267.132133 \r\nL 164.639064 272.733649 \r\n\" style=\"fill:none;stroke:#000000;\"/>\r\n    <path clip-path=\"url(#pd67e1f1c6b)\" d=\"M 117.353446 108.62655 \r\nL 102.682293 105.288118 \r\n\" style=\"fill:none;stroke:#000000;\"/>\r\n    <path clip-path=\"url(#pd67e1f1c6b)\" d=\"M 117.353446 108.62655 \r\nL 112.125587 92.06858 \r\n\" style=\"fill:none;stroke:#000000;\"/>\r\n    <path clip-path=\"url(#pd67e1f1c6b)\" d=\"M 117.353446 108.62655 \r\nL 108.900969 125.633901 \r\n\" style=\"fill:none;stroke:#000000;\"/>\r\n    <path clip-path=\"url(#pd67e1f1c6b)\" d=\"M 117.353446 108.62655 \r\nL 130.258354 122.350727 \r\n\" style=\"fill:none;stroke:#000000;\"/>\r\n    <path clip-path=\"url(#pd67e1f1c6b)\" d=\"M 117.353446 108.62655 \r\nL 127.307378 88.376074 \r\n\" style=\"fill:none;stroke:#000000;\"/>\r\n    <path clip-path=\"url(#pd67e1f1c6b)\" d=\"M 117.353446 108.62655 \r\nL 118.913601 126.335634 \r\n\" style=\"fill:none;stroke:#000000;\"/>\r\n    <path clip-path=\"url(#pd67e1f1c6b)\" d=\"M 117.353446 108.62655 \r\nL 94.481843 94.578482 \r\n\" style=\"fill:none;stroke:#000000;\"/>\r\n    <path clip-path=\"url(#pd67e1f1c6b)\" d=\"M 117.353446 108.62655 \r\nL 141.938749 101.551231 \r\n\" style=\"fill:none;stroke:#000000;\"/>\r\n    <path clip-path=\"url(#pd67e1f1c6b)\" d=\"M 117.353446 108.62655 \r\nL 143.548806 104.177822 \r\n\" style=\"fill:none;stroke:#000000;\"/>\r\n    <path clip-path=\"url(#pd67e1f1c6b)\" d=\"M 117.353446 108.62655 \r\nL 87.301973 110.076702 \r\n\" style=\"fill:none;stroke:#000000;\"/>\r\n    <path clip-path=\"url(#pd67e1f1c6b)\" d=\"M 117.353446 108.62655 \r\nL 109.874775 100.283271 \r\n\" style=\"fill:none;stroke:#000000;\"/>\r\n    <path clip-path=\"url(#pd67e1f1c6b)\" d=\"M 117.353446 108.62655 \r\nL 105.169022 112.435767 \r\n\" style=\"fill:none;stroke:#000000;\"/>\r\n    <path clip-path=\"url(#pd67e1f1c6b)\" d=\"M 117.353446 108.62655 \r\nL 99.218577 120.411015 \r\n\" style=\"fill:none;stroke:#000000;\"/>\r\n    <path clip-path=\"url(#pd67e1f1c6b)\" d=\"M 117.353446 108.62655 \r\nL 124.740293 102.839851 \r\n\" style=\"fill:none;stroke:#000000;\"/>\r\n    <path clip-path=\"url(#pd67e1f1c6b)\" d=\"M 117.353446 108.62655 \r\nL 119.301283 116.09891 \r\n\" style=\"fill:none;stroke:#000000;\"/>\r\n    <path clip-path=\"url(#pd67e1f1c6b)\" d=\"M 112.125587 92.06858 \r\nL 105.93117 79.51223 \r\n\" style=\"fill:none;stroke:#000000;\"/>\r\n    <path clip-path=\"url(#pd67e1f1c6b)\" d=\"M 108.900969 125.633901 \r\nL 100.004603 137.450306 \r\n\" style=\"fill:none;stroke:#000000;\"/>\r\n    <path clip-path=\"url(#pd67e1f1c6b)\" d=\"M 130.258354 122.350727 \r\nL 137.852711 133.168839 \r\n\" style=\"fill:none;stroke:#000000;\"/>\r\n    <path clip-path=\"url(#pd67e1f1c6b)\" d=\"M 127.307378 88.376074 \r\nL 134.628207 76.062431 \r\n\" style=\"fill:none;stroke:#000000;\"/>\r\n    <path clip-path=\"url(#pd67e1f1c6b)\" d=\"M 127.307378 88.376074 \r\nL 125.590024 74.771923 \r\n\" style=\"fill:none;stroke:#000000;\"/>\r\n    <path clip-path=\"url(#pd67e1f1c6b)\" d=\"M 118.913601 126.335634 \r\nL 116.925034 139.201262 \r\n\" style=\"fill:none;stroke:#000000;\"/>\r\n    <path clip-path=\"url(#pd67e1f1c6b)\" d=\"M 94.481843 94.578482 \r\nL 83.358385 83.586451 \r\n\" style=\"fill:none;stroke:#000000;\"/>\r\n    <path clip-path=\"url(#pd67e1f1c6b)\" d=\"M 94.481843 94.578482 \r\nL 77.29359 88.477337 \r\n\" style=\"fill:none;stroke:#000000;\"/>\r\n    <path clip-path=\"url(#pd67e1f1c6b)\" d=\"M 141.938749 101.551231 \r\nL 153.228158 106.824337 \r\n\" style=\"fill:none;stroke:#000000;\"/>\r\n    <path clip-path=\"url(#pd67e1f1c6b)\" d=\"M 141.938749 101.551231 \r\nL 148.35867 94.451279 \r\n\" style=\"fill:none;stroke:#000000;\"/>\r\n    <path clip-path=\"url(#pd67e1f1c6b)\" d=\"M 141.938749 101.551231 \r\nL 155.350701 101.563042 \r\n\" style=\"fill:none;stroke:#000000;\"/>\r\n    <path clip-path=\"url(#pd67e1f1c6b)\" d=\"M 141.938749 101.551231 \r\nL 154.04553 96.910507 \r\n\" style=\"fill:none;stroke:#000000;\"/>\r\n    <path clip-path=\"url(#pd67e1f1c6b)\" d=\"M 143.548806 104.177822 \r\nL 153.228158 106.824337 \r\n\" style=\"fill:none;stroke:#000000;\"/>\r\n    <path clip-path=\"url(#pd67e1f1c6b)\" d=\"M 143.548806 104.177822 \r\nL 148.35867 94.451279 \r\n\" style=\"fill:none;stroke:#000000;\"/>\r\n    <path clip-path=\"url(#pd67e1f1c6b)\" d=\"M 143.548806 104.177822 \r\nL 155.350701 101.563042 \r\n\" style=\"fill:none;stroke:#000000;\"/>\r\n    <path clip-path=\"url(#pd67e1f1c6b)\" d=\"M 143.548806 104.177822 \r\nL 154.04553 96.910507 \r\n\" style=\"fill:none;stroke:#000000;\"/>\r\n    <path clip-path=\"url(#pd67e1f1c6b)\" d=\"M 87.301973 110.076702 \r\nL 68.950511 107.045544 \r\n\" style=\"fill:none;stroke:#000000;\"/>\r\n    <path clip-path=\"url(#pd67e1f1c6b)\" d=\"M 87.301973 110.076702 \r\nL 69.077666 113.601387 \r\n\" style=\"fill:none;stroke:#000000;\"/>\r\n    <path clip-path=\"url(#pd67e1f1c6b)\" d=\"M 105.169022 112.435767 \r\nL 105.169022 112.435767 \r\n\" style=\"fill:none;stroke:#000000;\"/>\r\n    <path clip-path=\"url(#pd67e1f1c6b)\" d=\"M 99.218577 120.411015 \r\nL 84.005725 128.10472 \r\n\" style=\"fill:none;stroke:#000000;\"/>\r\n    <path clip-path=\"url(#pd67e1f1c6b)\" d=\"M 124.740293 102.839851 \r\nL 124.740293 102.839851 \r\n\" style=\"fill:none;stroke:#000000;\"/>\r\n    <path clip-path=\"url(#pd67e1f1c6b)\" d=\"M 119.301283 116.09891 \r\nL 119.301283 116.09891 \r\n\" style=\"fill:none;stroke:#000000;\"/>\r\n    <path clip-path=\"url(#pd67e1f1c6b)\" d=\"M 318.820216 209.943856 \r\nL 335.003775 205.855533 \r\n\" style=\"fill:none;stroke:#000000;\"/>\r\n    <path clip-path=\"url(#pd67e1f1c6b)\" d=\"M 318.820216 209.943856 \r\nL 323.490788 197.544962 \r\n\" style=\"fill:none;stroke:#000000;\"/>\r\n    <path clip-path=\"url(#pd67e1f1c6b)\" d=\"M 318.820216 209.943856 \r\nL 302.152421 213.803285 \r\n\" style=\"fill:none;stroke:#000000;\"/>\r\n    <path clip-path=\"url(#pd67e1f1c6b)\" d=\"M 318.820216 209.943856 \r\nL 317.437985 225.184067 \r\n\" style=\"fill:none;stroke:#000000;\"/>\r\n    <path clip-path=\"url(#pd67e1f1c6b)\" d=\"M 318.820216 209.943856 \r\nL 333.623928 209.119338 \r\n\" style=\"fill:none;stroke:#000000;\"/>\r\n    <path clip-path=\"url(#pd67e1f1c6b)\" d=\"M 318.820216 209.943856 \r\nL 326.858661 220.285909 \r\n\" style=\"fill:none;stroke:#000000;\"/>\r\n    <path clip-path=\"url(#pd67e1f1c6b)\" d=\"M 335.003775 205.855533 \r\nL 333.72762 199.398118 \r\n\" style=\"fill:none;stroke:#000000;\"/>\r\n    <path clip-path=\"url(#pd67e1f1c6b)\" d=\"M 335.003775 205.855533 \r\nL 346.13703 210.19014 \r\n\" style=\"fill:none;stroke:#000000;\"/>\r\n    <path clip-path=\"url(#pd67e1f1c6b)\" d=\"M 323.490788 197.544962 \r\nL 334.217191 190.308967 \r\n\" style=\"fill:none;stroke:#000000;\"/>\r\n    <path clip-path=\"url(#pd67e1f1c6b)\" d=\"M 302.152421 213.803285 \r\nL 290.073551 218.24539 \r\n\" style=\"fill:none;stroke:#000000;\"/>\r\n    <path clip-path=\"url(#pd67e1f1c6b)\" d=\"M 317.437985 225.184067 \r\nL 319.581653 237.193336 \r\n\" style=\"fill:none;stroke:#000000;\"/>\r\n    <path clip-path=\"url(#pd67e1f1c6b)\" d=\"M 333.623928 209.119338 \r\nL 333.72762 199.398118 \r\n\" style=\"fill:none;stroke:#000000;\"/>\r\n    <path clip-path=\"url(#pd67e1f1c6b)\" d=\"M 333.623928 209.119338 \r\nL 346.13703 210.19014 \r\n\" style=\"fill:none;stroke:#000000;\"/>\r\n    <path clip-path=\"url(#pd67e1f1c6b)\" d=\"M 326.858661 220.285909 \r\nL 334.497951 228.468369 \r\n\" style=\"fill:none;stroke:#000000;\"/>\r\n    <path clip-path=\"url(#pd67e1f1c6b)\" d=\"M 260.954143 146.883847 \r\nL 256.24107 160.487235 \r\n\" style=\"fill:none;stroke:#000000;\"/>\r\n    <path clip-path=\"url(#pd67e1f1c6b)\" d=\"M 260.954143 146.883847 \r\nL 261.848162 133.059304 \r\n\" style=\"fill:none;stroke:#000000;\"/>\r\n    <path clip-path=\"url(#pd67e1f1c6b)\" d=\"M 260.954143 146.883847 \r\nL 268.762463 154.07027 \r\n\" style=\"fill:none;stroke:#000000;\"/>\r\n    <path clip-path=\"url(#pd67e1f1c6b)\" d=\"M 260.954143 146.883847 \r\nL 276.221326 138.691574 \r\n\" style=\"fill:none;stroke:#000000;\"/>\r\n    <path clip-path=\"url(#pd67e1f1c6b)\" d=\"M 260.954143 146.883847 \r\nL 274.514868 147.466359 \r\n\" style=\"fill:none;stroke:#000000;\"/>\r\n    <path clip-path=\"url(#pd67e1f1c6b)\" d=\"M 260.954143 146.883847 \r\nL 253.697985 140.617392 \r\n\" style=\"fill:none;stroke:#000000;\"/>\r\n    <path clip-path=\"url(#pd67e1f1c6b)\" d=\"M 260.954143 146.883847 \r\nL 246.366531 152.758882 \r\n\" style=\"fill:none;stroke:#000000;\"/>\r\n    <path clip-path=\"url(#pd67e1f1c6b)\" d=\"M 256.24107 160.487235 \r\nL 253.334888 170.783368 \r\n\" style=\"fill:none;stroke:#000000;\"/>\r\n    <path clip-path=\"url(#pd67e1f1c6b)\" d=\"M 261.848162 133.059304 \r\nL 265.061328 122.609227 \r\n\" style=\"fill:none;stroke:#000000;\"/>\r\n    <path clip-path=\"url(#pd67e1f1c6b)\" d=\"M 276.221326 138.691574 \r\nL 288.228967 132.639986 \r\n\" style=\"fill:none;stroke:#000000;\"/>\r\n    <path clip-path=\"url(#pd67e1f1c6b)\" d=\"M 246.366531 152.758882 \r\nL 235.907382 158.405137 \r\n\" style=\"fill:none;stroke:#000000;\"/>\r\n    <path clip-path=\"url(#pd67e1f1c6b)\" d=\"M 361.580246 91.20645 \r\nL 348.079138 98.040379 \r\n\" style=\"fill:none;stroke:#000000;\"/>\r\n    <path clip-path=\"url(#pd67e1f1c6b)\" d=\"M 361.580246 91.20645 \r\nL 371.686911 86.373886 \r\n\" style=\"fill:none;stroke:#000000;\"/>\r\n    <path clip-path=\"url(#pd67e1f1c6b)\" d=\"M 30.97042 223.237974 \r\nL 36.582835 227.888202 \r\n\" style=\"fill:none;stroke:#000000;\"/>\r\n    <path clip-path=\"url(#pd67e1f1c6b)\" d=\"M 415.42958 161.545375 \r\nL 402.573914 161.329619 \r\n\" style=\"fill:none;stroke:#000000;\"/>\r\n    <path clip-path=\"url(#pd67e1f1c6b)\" d=\"M 402.573914 161.329619 \r\nL 385.469794 161.554018 \r\n\" style=\"fill:none;stroke:#000000;\"/>\r\n    <path clip-path=\"url(#pd67e1f1c6b)\" d=\"M 299.734154 32.081501 \r\nL 304.815831 24.849285 \r\n\" style=\"fill:none;stroke:#000000;\"/>\r\n    <path clip-path=\"url(#pd67e1f1c6b)\" d=\"M 224.059204 267.397609 \r\nL 223.543973 277.550715 \r\n\" style=\"fill:none;stroke:#000000;\"/>\r\n   </g>\r\n   <g id=\"PathCollection_1\">\r\n    <defs>\r\n     <path d=\"M 0 8.660254 \r\nC 2.296726 8.660254 4.499694 7.747755 6.123724 6.123724 \r\nC 7.747755 4.499694 8.660254 2.296726 8.660254 0 \r\nC 8.660254 -2.296726 7.747755 -4.499694 6.123724 -6.123724 \r\nC 4.499694 -7.747755 2.296726 -8.660254 0 -8.660254 \r\nC -2.296726 -8.660254 -4.499694 -7.747755 -6.123724 -6.123724 \r\nC -7.747755 -4.499694 -8.660254 -2.296726 -8.660254 0 \r\nC -8.660254 2.296726 -7.747755 4.499694 -6.123724 6.123724 \r\nC -4.499694 7.747755 -2.296726 8.660254 0 8.660254 \r\nz\r\n\" id=\"m3dda2a8390\" style=\"stroke:#1f78b4;\"/>\r\n    </defs>\r\n    <g clip-path=\"url(#pd67e1f1c6b)\">\r\n     <use style=\"fill:#1f78b4;stroke:#1f78b4;\" x=\"161.069477\" xlink:href=\"#m3dda2a8390\" y=\"267.132133\"/>\r\n     <use style=\"fill:#1f78b4;stroke:#1f78b4;\" x=\"164.639064\" xlink:href=\"#m3dda2a8390\" y=\"272.733649\"/>\r\n     <use style=\"fill:#1f78b4;stroke:#1f78b4;\" x=\"117.353446\" xlink:href=\"#m3dda2a8390\" y=\"108.62655\"/>\r\n     <use style=\"fill:#1f78b4;stroke:#1f78b4;\" x=\"102.682293\" xlink:href=\"#m3dda2a8390\" y=\"105.288118\"/>\r\n     <use style=\"fill:#1f78b4;stroke:#1f78b4;\" x=\"112.125587\" xlink:href=\"#m3dda2a8390\" y=\"92.06858\"/>\r\n     <use style=\"fill:#1f78b4;stroke:#1f78b4;\" x=\"108.900969\" xlink:href=\"#m3dda2a8390\" y=\"125.633901\"/>\r\n     <use style=\"fill:#1f78b4;stroke:#1f78b4;\" x=\"130.258354\" xlink:href=\"#m3dda2a8390\" y=\"122.350727\"/>\r\n     <use style=\"fill:#1f78b4;stroke:#1f78b4;\" x=\"127.307378\" xlink:href=\"#m3dda2a8390\" y=\"88.376074\"/>\r\n     <use style=\"fill:#1f78b4;stroke:#1f78b4;\" x=\"118.913601\" xlink:href=\"#m3dda2a8390\" y=\"126.335634\"/>\r\n     <use style=\"fill:#1f78b4;stroke:#1f78b4;\" x=\"94.481843\" xlink:href=\"#m3dda2a8390\" y=\"94.578482\"/>\r\n     <use style=\"fill:#1f78b4;stroke:#1f78b4;\" x=\"141.938749\" xlink:href=\"#m3dda2a8390\" y=\"101.551231\"/>\r\n     <use style=\"fill:#1f78b4;stroke:#1f78b4;\" x=\"143.548806\" xlink:href=\"#m3dda2a8390\" y=\"104.177822\"/>\r\n     <use style=\"fill:#1f78b4;stroke:#1f78b4;\" x=\"87.301973\" xlink:href=\"#m3dda2a8390\" y=\"110.076702\"/>\r\n     <use style=\"fill:#1f78b4;stroke:#1f78b4;\" x=\"109.874775\" xlink:href=\"#m3dda2a8390\" y=\"100.283271\"/>\r\n     <use style=\"fill:#1f78b4;stroke:#1f78b4;\" x=\"105.169022\" xlink:href=\"#m3dda2a8390\" y=\"112.435767\"/>\r\n     <use style=\"fill:#1f78b4;stroke:#1f78b4;\" x=\"99.218577\" xlink:href=\"#m3dda2a8390\" y=\"120.411015\"/>\r\n     <use style=\"fill:#1f78b4;stroke:#1f78b4;\" x=\"124.740293\" xlink:href=\"#m3dda2a8390\" y=\"102.839851\"/>\r\n     <use style=\"fill:#1f78b4;stroke:#1f78b4;\" x=\"119.301283\" xlink:href=\"#m3dda2a8390\" y=\"116.09891\"/>\r\n     <use style=\"fill:#1f78b4;stroke:#1f78b4;\" x=\"318.820216\" xlink:href=\"#m3dda2a8390\" y=\"209.943856\"/>\r\n     <use style=\"fill:#1f78b4;stroke:#1f78b4;\" x=\"335.003775\" xlink:href=\"#m3dda2a8390\" y=\"205.855533\"/>\r\n     <use style=\"fill:#1f78b4;stroke:#1f78b4;\" x=\"323.490788\" xlink:href=\"#m3dda2a8390\" y=\"197.544962\"/>\r\n     <use style=\"fill:#1f78b4;stroke:#1f78b4;\" x=\"302.152421\" xlink:href=\"#m3dda2a8390\" y=\"213.803285\"/>\r\n     <use style=\"fill:#1f78b4;stroke:#1f78b4;\" x=\"317.437985\" xlink:href=\"#m3dda2a8390\" y=\"225.184067\"/>\r\n     <use style=\"fill:#1f78b4;stroke:#1f78b4;\" x=\"333.623928\" xlink:href=\"#m3dda2a8390\" y=\"209.119338\"/>\r\n     <use style=\"fill:#1f78b4;stroke:#1f78b4;\" x=\"326.858661\" xlink:href=\"#m3dda2a8390\" y=\"220.285909\"/>\r\n     <use style=\"fill:#1f78b4;stroke:#1f78b4;\" x=\"260.954143\" xlink:href=\"#m3dda2a8390\" y=\"146.883847\"/>\r\n     <use style=\"fill:#1f78b4;stroke:#1f78b4;\" x=\"256.24107\" xlink:href=\"#m3dda2a8390\" y=\"160.487235\"/>\r\n     <use style=\"fill:#1f78b4;stroke:#1f78b4;\" x=\"261.848162\" xlink:href=\"#m3dda2a8390\" y=\"133.059304\"/>\r\n     <use style=\"fill:#1f78b4;stroke:#1f78b4;\" x=\"268.762463\" xlink:href=\"#m3dda2a8390\" y=\"154.07027\"/>\r\n     <use style=\"fill:#1f78b4;stroke:#1f78b4;\" x=\"276.221326\" xlink:href=\"#m3dda2a8390\" y=\"138.691574\"/>\r\n     <use style=\"fill:#1f78b4;stroke:#1f78b4;\" x=\"274.514868\" xlink:href=\"#m3dda2a8390\" y=\"147.466359\"/>\r\n     <use style=\"fill:#1f78b4;stroke:#1f78b4;\" x=\"253.697985\" xlink:href=\"#m3dda2a8390\" y=\"140.617392\"/>\r\n     <use style=\"fill:#1f78b4;stroke:#1f78b4;\" x=\"246.366531\" xlink:href=\"#m3dda2a8390\" y=\"152.758882\"/>\r\n     <use style=\"fill:#1f78b4;stroke:#1f78b4;\" x=\"361.580246\" xlink:href=\"#m3dda2a8390\" y=\"91.20645\"/>\r\n     <use style=\"fill:#1f78b4;stroke:#1f78b4;\" x=\"348.079138\" xlink:href=\"#m3dda2a8390\" y=\"98.040379\"/>\r\n     <use style=\"fill:#1f78b4;stroke:#1f78b4;\" x=\"371.686911\" xlink:href=\"#m3dda2a8390\" y=\"86.373886\"/>\r\n     <use style=\"fill:#1f78b4;stroke:#1f78b4;\" x=\"333.72762\" xlink:href=\"#m3dda2a8390\" y=\"199.398118\"/>\r\n     <use style=\"fill:#1f78b4;stroke:#1f78b4;\" x=\"134.628207\" xlink:href=\"#m3dda2a8390\" y=\"76.062431\"/>\r\n     <use style=\"fill:#1f78b4;stroke:#1f78b4;\" x=\"105.93117\" xlink:href=\"#m3dda2a8390\" y=\"79.51223\"/>\r\n     <use style=\"fill:#1f78b4;stroke:#1f78b4;\" x=\"68.950511\" xlink:href=\"#m3dda2a8390\" y=\"107.045544\"/>\r\n     <use style=\"fill:#1f78b4;stroke:#1f78b4;\" x=\"83.358385\" xlink:href=\"#m3dda2a8390\" y=\"83.586451\"/>\r\n     <use style=\"fill:#1f78b4;stroke:#1f78b4;\" x=\"153.228158\" xlink:href=\"#m3dda2a8390\" y=\"106.824337\"/>\r\n     <use style=\"fill:#1f78b4;stroke:#1f78b4;\" x=\"253.334888\" xlink:href=\"#m3dda2a8390\" y=\"170.783368\"/>\r\n     <use style=\"fill:#1f78b4;stroke:#1f78b4;\" x=\"125.590024\" xlink:href=\"#m3dda2a8390\" y=\"74.771923\"/>\r\n     <use style=\"fill:#1f78b4;stroke:#1f78b4;\" x=\"116.925034\" xlink:href=\"#m3dda2a8390\" y=\"139.201262\"/>\r\n     <use style=\"fill:#1f78b4;stroke:#1f78b4;\" x=\"265.061328\" xlink:href=\"#m3dda2a8390\" y=\"122.609227\"/>\r\n     <use style=\"fill:#1f78b4;stroke:#1f78b4;\" x=\"148.35867\" xlink:href=\"#m3dda2a8390\" y=\"94.451279\"/>\r\n     <use style=\"fill:#1f78b4;stroke:#1f78b4;\" x=\"155.350701\" xlink:href=\"#m3dda2a8390\" y=\"101.563042\"/>\r\n     <use style=\"fill:#1f78b4;stroke:#1f78b4;\" x=\"77.29359\" xlink:href=\"#m3dda2a8390\" y=\"88.477337\"/>\r\n     <use style=\"fill:#1f78b4;stroke:#1f78b4;\" x=\"137.852711\" xlink:href=\"#m3dda2a8390\" y=\"133.168839\"/>\r\n     <use style=\"fill:#1f78b4;stroke:#1f78b4;\" x=\"69.077666\" xlink:href=\"#m3dda2a8390\" y=\"113.601387\"/>\r\n     <use style=\"fill:#1f78b4;stroke:#1f78b4;\" x=\"334.497951\" xlink:href=\"#m3dda2a8390\" y=\"228.468369\"/>\r\n     <use style=\"fill:#1f78b4;stroke:#1f78b4;\" x=\"334.217191\" xlink:href=\"#m3dda2a8390\" y=\"190.308967\"/>\r\n     <use style=\"fill:#1f78b4;stroke:#1f78b4;\" x=\"288.228967\" xlink:href=\"#m3dda2a8390\" y=\"132.639986\"/>\r\n     <use style=\"fill:#1f78b4;stroke:#1f78b4;\" x=\"235.907382\" xlink:href=\"#m3dda2a8390\" y=\"158.405137\"/>\r\n     <use style=\"fill:#1f78b4;stroke:#1f78b4;\" x=\"30.97042\" xlink:href=\"#m3dda2a8390\" y=\"223.237974\"/>\r\n     <use style=\"fill:#1f78b4;stroke:#1f78b4;\" x=\"36.582835\" xlink:href=\"#m3dda2a8390\" y=\"227.888202\"/>\r\n     <use style=\"fill:#1f78b4;stroke:#1f78b4;\" x=\"319.581653\" xlink:href=\"#m3dda2a8390\" y=\"237.193336\"/>\r\n     <use style=\"fill:#1f78b4;stroke:#1f78b4;\" x=\"415.42958\" xlink:href=\"#m3dda2a8390\" y=\"161.545375\"/>\r\n     <use style=\"fill:#1f78b4;stroke:#1f78b4;\" x=\"402.573914\" xlink:href=\"#m3dda2a8390\" y=\"161.329619\"/>\r\n     <use style=\"fill:#1f78b4;stroke:#1f78b4;\" x=\"299.734154\" xlink:href=\"#m3dda2a8390\" y=\"32.081501\"/>\r\n     <use style=\"fill:#1f78b4;stroke:#1f78b4;\" x=\"304.815831\" xlink:href=\"#m3dda2a8390\" y=\"24.849285\"/>\r\n     <use style=\"fill:#1f78b4;stroke:#1f78b4;\" x=\"224.059204\" xlink:href=\"#m3dda2a8390\" y=\"267.397609\"/>\r\n     <use style=\"fill:#1f78b4;stroke:#1f78b4;\" x=\"223.543973\" xlink:href=\"#m3dda2a8390\" y=\"277.550715\"/>\r\n     <use style=\"fill:#1f78b4;stroke:#1f78b4;\" x=\"154.04553\" xlink:href=\"#m3dda2a8390\" y=\"96.910507\"/>\r\n     <use style=\"fill:#1f78b4;stroke:#1f78b4;\" x=\"385.469794\" xlink:href=\"#m3dda2a8390\" y=\"161.554018\"/>\r\n     <use style=\"fill:#1f78b4;stroke:#1f78b4;\" x=\"84.005725\" xlink:href=\"#m3dda2a8390\" y=\"128.10472\"/>\r\n     <use style=\"fill:#1f78b4;stroke:#1f78b4;\" x=\"290.073551\" xlink:href=\"#m3dda2a8390\" y=\"218.24539\"/>\r\n     <use style=\"fill:#1f78b4;stroke:#1f78b4;\" x=\"100.004603\" xlink:href=\"#m3dda2a8390\" y=\"137.450306\"/>\r\n     <use style=\"fill:#1f78b4;stroke:#1f78b4;\" x=\"346.13703\" xlink:href=\"#m3dda2a8390\" y=\"210.19014\"/>\r\n    </g>\r\n   </g>\r\n  </g>\r\n </g>\r\n <defs>\r\n  <clipPath id=\"pd67e1f1c6b\">\r\n   <rect height=\"288\" width=\"432\" x=\"7.2\" y=\"7.2\"/>\r\n  </clipPath>\r\n </defs>\r\n</svg>\r\n",
      "image/png": "[encoded data removed]"
     },
     "metadata": {}
    }
   ],
   "source": [
    "nx.draw(g)\n",
    "plt.draw()"
   ]
  },
  {
   "cell_type": "code",
   "execution_count": 8,
   "metadata": {},
   "outputs": [],
   "source": [
    "subgraphs = [sg for sg in nx.connected_components(g)]"
   ]
  },
  {
   "cell_type": "code",
   "execution_count": 9,
   "metadata": {},
   "outputs": [],
   "source": [
    "cluster = {}\n",
    "for i in range(0, len(subgraphs)):\n",
    "    for sch in subgraphs[i]:\n",
    "        cluster[sch] = i + 1"
   ]
  },
  {
   "cell_type": "code",
   "execution_count": 10,
   "metadata": {},
   "outputs": [],
   "source": [
    "def assign_cluster(name, cluster_dict):\n",
    "    if name in cluster_dict.keys():\n",
    "        return cluster_dict[name]\n",
    "    else: \n",
    "        return 0"
   ]
  },
  {
   "cell_type": "code",
   "execution_count": 11,
   "metadata": {},
   "outputs": [],
   "source": [
    "nodes = [{'code': v['code'], 'name': v['name'], 'level': v['level'], 'cluster': assign_cluster(v['name'], cluster)} for k, v in data.items()]"
   ]
  },
  {
   "cell_type": "code",
   "execution_count": 12,
   "metadata": {},
   "outputs": [],
   "source": [
    "links = [{'source': link[0], 'target': link[1], 'cluster': cluster[link[0]]} for link in links]"
   ]
  },
  {
   "cell_type": "code",
   "execution_count": 13,
   "metadata": {},
   "outputs": [],
   "source": [
    "network_data = {'nodes': nodes, 'links': links}"
   ]
  },
  {
   "cell_type": "code",
   "execution_count": 14,
   "metadata": {},
   "outputs": [
    {
     "output_type": "execute_result",
     "data": {
      "text/plain": "[{'code': '0701',\n  'name': 'NATIONAL JUNIOR COLLEGE',\n  'level': 'MIXED LEVEL',\n  'cluster': 0},\n {'code': '0702',\n  'name': 'TEMASEK JUNIOR COLLEGE',\n  'level': 'MIXED LEVEL',\n  'cluster': 0},\n {'code': '0703',\n  'name': 'JURONG JUNIOR COLLEGE',\n  'level': 'JUNIOR COLLEGE',\n  'cluster': 0},\n {'code': '0705',\n  'name': 'ANDERSON JUNIOR COLLEGE',\n  'level': 'JUNIOR COLLEGE',\n  'cluster': 0},\n {'code': '0706',\n  'name': 'VICTORIA JUNIOR COLLEGE',\n  'level': 'JUNIOR COLLEGE',\n  'cluster': 1}]"
     },
     "metadata": {},
     "execution_count": 14
    }
   ],
   "source": [
    "network_data['nodes'][:5]"
   ]
  },
  {
   "cell_type": "code",
   "execution_count": 15,
   "metadata": {},
   "outputs": [
    {
     "output_type": "execute_result",
     "data": {
      "text/plain": "[{'source': 'VICTORIA JUNIOR COLLEGE',\n  'target': 'VICTORIA SCHOOL',\n  'cluster': 1},\n {'source': 'CATHOLIC JUNIOR COLLEGE',\n  'target': 'ASSUMPTION ENGLISH SCHOOL',\n  'cluster': 2},\n {'source': 'CATHOLIC JUNIOR COLLEGE',\n  'target': 'CHIJ SECONDARY (TOA PAYOH)',\n  'cluster': 2},\n {'source': 'CATHOLIC JUNIOR COLLEGE',\n  'target': 'CHIJ KATONG CONVENT',\n  'cluster': 2},\n {'source': 'CATHOLIC JUNIOR COLLEGE',\n  'target': 'MONTFORT SECONDARY SCHOOL',\n  'cluster': 2}]"
     },
     "metadata": {},
     "execution_count": 15
    }
   ],
   "source": [
    "network_data['links'][:5]"
   ]
  },
  {
   "cell_type": "code",
   "execution_count": 16,
   "metadata": {},
   "outputs": [],
   "source": [
    "with open(\"../data/network_data.json\", \"w\") as fp:\n",
    "    json.dump(network_data, fp)"
   ]
  }
 ],
 "metadata": {
  "language_info": {
   "codemirror_mode": {
    "name": "ipython",
    "version": 3
   },
   "file_extension": ".py",
   "mimetype": "text/x-python",
   "name": "python",
   "nbconvert_exporter": "python",
   "pygments_lexer": "ipython3",
   "version": "3.7.3-final"
  },
  "orig_nbformat": 2,
  "kernelspec": {
   "name": "python3",
   "display_name": "Python 3"
  }
 },
 "nbformat": 4,
 "nbformat_minor": 2
}