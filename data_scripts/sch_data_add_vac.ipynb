{
 "cells": [
  {
   "cell_type": "markdown",
   "metadata": {},
   "source": [
    "# add vacancy info"
   ]
  },
  {
   "cell_type": "code",
   "execution_count": 1,
   "metadata": {},
   "outputs": [],
   "source": [
    "import json\n",
    "import pandas as pd"
   ]
  },
  {
   "cell_type": "code",
   "execution_count": 2,
   "metadata": {},
   "outputs": [],
   "source": [
    "data = json.load(open(\"../data/school-info-wrangled.json\"))"
   ]
  },
  {
   "cell_type": "code",
   "execution_count": 3,
   "metadata": {},
   "outputs": [],
   "source": [
    "vacancies = pd.read_csv(\"../data/vacancies.csv\")\n",
    "translate = json.load(open(\"../data/data/translationDictionary.json\"))"
   ]
  },
  {
   "cell_type": "code",
   "execution_count": 4,
   "metadata": {},
   "outputs": [],
   "source": [
    "vacancies = json.loads(vacancies.to_json(orient='records'))"
   ]
  },
  {
   "cell_type": "code",
   "execution_count": 5,
   "metadata": {},
   "outputs": [
    {
     "output_type": "execute_result",
     "data": {
      "text/plain": "{'Phase': 'Phase 1A',\n 'Vacancies': 170,\n 'Applicants': 100,\n 'School': 'ANDERSON PRIMARY SCHOOL'}"
     },
     "metadata": {},
     "execution_count": 5
    }
   ],
   "source": [
    "vacancies[0]"
   ]
  },
  {
   "cell_type": "code",
   "execution_count": 6,
   "metadata": {},
   "outputs": [
    {
     "output_type": "stream",
     "name": "stdout",
     "text": "1197\n1197\n1197\n1197\n1197\n1197\n1197\n"
    }
   ],
   "source": [
    "for vacancy in vacancies:\n",
    "    try:\n",
    "        code = translate[vacancy[\"School\"]][\"code\"][0]\n",
    "        if \"Vacancy\" not in data[code].keys():\n",
    "            data[code][\"Vacancy\"] = []\n",
    "        del vacancy[\"School\"]\n",
    "        data[code][\"Vacancy\"].append(vacancy)\n",
    "    except:\n",
    "        print(code)"
   ]
  },
  {
   "cell_type": "markdown",
   "metadata": {},
   "source": [
    "# lat lng"
   ]
  },
  {
   "cell_type": "code",
   "execution_count": 7,
   "metadata": {},
   "outputs": [],
   "source": [
    "csv_data = pd.read_csv(\"../data/general-information-full.csv\", dtype={'code': str})"
   ]
  },
  {
   "cell_type": "code",
   "execution_count": 8,
   "metadata": {},
   "outputs": [
    {
     "output_type": "execute_result",
     "data": {
      "text/plain": "    X1              school_name                        url_address  \\\n0  1.0  NATIONAL JUNIOR COLLEGE   http://www.nationaljc.moe.edu.sg   \n1  2.0   TEMASEK JUNIOR COLLEGE        http://temasekjc.moe.edu.sg   \n2  3.0  VICTORIA JUNIOR COLLEGE  http://www.victoriajc.moe.edu.sg/   \n3  4.0    EUNOIA JUNIOR COLLEGE     http://www.eunoiajc.moe.edu.sg   \n4  9.0  CATHOLIC JUNIOR COLLEGE              http://www.cjc.edu.sg   \n\n               address  postal_code telephone_no telephone_no_2    fax_no  \\\n0    37 HILLCREST ROAD     288913.0     64661144             na  64684535   \n1  22 BEDOK SOUTH ROAD     469278.0     64428066             na  64428762   \n2      20 MARINE VISTA     449035.0     64485011             na  64438337   \n3  53 MOUNT SINAI ROAD     276880.0     63518388             na  63518399   \n4     129 WHITLEY ROAD     297822.0     62524083             na  62537267   \n\n  fax_no_2           email_address  ... gifted_ind ip_ind mothertongue1_code  \\\n0       na          NJC@MOE.EDU.SG  ...         No    Yes            Chinese   \n1       na   TEMASEK_JC@MOE.EDU.SG  ...         No    Yes            Chinese   \n2       na  victoria_jc@moe.edu.sg  ...         No    Yes            Chinese   \n3       na     eunoiajc@moe.edu.sg  ...         No    Yes            Chinese   \n4       na  catholic_jc@moe.edu.sg  ...         No     No                 na   \n\n  mothertongue2_code mothertongue3_code  \\\n0              Malay              Tamil   \n1              Malay              Tamil   \n2              Malay              Tamil   \n3              Malay              Tamil   \n4                 na                 na   \n\n                                 special_sdp_offered  \\\n0  For the Integrated Programme (Junior High), we...   \n1  The TJC 6-Year Integrated Programme provides a...   \n2  Arts Programme  Beyond Borders Programme Highe...   \n3  Environmental Literacy Programme Leadership Ad...   \n4  Religious / Ethics Programme Overseas Communit...   \n\n                                       addr         lon       lat  code  \n0  NATIONAL JUNIOR COLLEGE Singapore 288913  103.804500  1.330476  0701  \n1   TEMASEK JUNIOR COLLEGE Singapore 469278  103.935535  1.318605  0702  \n2  VICTORIA JUNIOR COLLEGE Singapore 449035  103.919388  1.306235  0706  \n3    EUNOIA JUNIOR COLLEGE Singapore 276880  103.836529  1.360811  0714  \n4  CATHOLIC JUNIOR COLLEGE Singapore 297822  103.833967  1.325667  0802  \n\n[5 rows x 41 columns]",
      "text/html": "<div>\n<style scoped>\n    .dataframe tbody tr th:only-of-type {\n        vertical-align: middle;\n    }\n\n    .dataframe tbody tr th {\n        vertical-align: top;\n    }\n\n    .dataframe thead th {\n        text-align: right;\n    }\n</style>\n<table border=\"1\" class=\"dataframe\">\n  <thead>\n    <tr style=\"text-align: right;\">\n      <th></th>\n      <th>X1</th>\n      <th>school_name</th>\n      <th>url_address</th>\n      <th>address</th>\n      <th>postal_code</th>\n      <th>telephone_no</th>\n      <th>telephone_no_2</th>\n      <th>fax_no</th>\n      <th>fax_no_2</th>\n      <th>email_address</th>\n      <th>...</th>\n      <th>gifted_ind</th>\n      <th>ip_ind</th>\n      <th>mothertongue1_code</th>\n      <th>mothertongue2_code</th>\n      <th>mothertongue3_code</th>\n      <th>special_sdp_offered</th>\n      <th>addr</th>\n      <th>lon</th>\n      <th>lat</th>\n      <th>code</th>\n    </tr>\n  </thead>\n  <tbody>\n    <tr>\n      <th>0</th>\n      <td>1.0</td>\n      <td>NATIONAL JUNIOR COLLEGE</td>\n      <td>http://www.nationaljc.moe.edu.sg</td>\n      <td>37 HILLCREST ROAD</td>\n      <td>288913.0</td>\n      <td>64661144</td>\n      <td>na</td>\n      <td>64684535</td>\n      <td>na</td>\n      <td>NJC@MOE.EDU.SG</td>\n      <td>...</td>\n      <td>No</td>\n      <td>Yes</td>\n      <td>Chinese</td>\n      <td>Malay</td>\n      <td>Tamil</td>\n      <td>For the Integrated Programme (Junior High), we...</td>\n      <td>NATIONAL JUNIOR COLLEGE Singapore 288913</td>\n      <td>103.804500</td>\n      <td>1.330476</td>\n      <td>0701</td>\n    </tr>\n    <tr>\n      <th>1</th>\n      <td>2.0</td>\n      <td>TEMASEK JUNIOR COLLEGE</td>\n      <td>http://temasekjc.moe.edu.sg</td>\n      <td>22 BEDOK SOUTH ROAD</td>\n      <td>469278.0</td>\n      <td>64428066</td>\n      <td>na</td>\n      <td>64428762</td>\n      <td>na</td>\n      <td>TEMASEK_JC@MOE.EDU.SG</td>\n      <td>...</td>\n      <td>No</td>\n      <td>Yes</td>\n      <td>Chinese</td>\n      <td>Malay</td>\n      <td>Tamil</td>\n      <td>The TJC 6-Year Integrated Programme provides a...</td>\n      <td>TEMASEK JUNIOR COLLEGE Singapore 469278</td>\n      <td>103.935535</td>\n      <td>1.318605</td>\n      <td>0702</td>\n    </tr>\n    <tr>\n      <th>2</th>\n      <td>3.0</td>\n      <td>VICTORIA JUNIOR COLLEGE</td>\n      <td>http://www.victoriajc.moe.edu.sg/</td>\n      <td>20 MARINE VISTA</td>\n      <td>449035.0</td>\n      <td>64485011</td>\n      <td>na</td>\n      <td>64438337</td>\n      <td>na</td>\n      <td>victoria_jc@moe.edu.sg</td>\n      <td>...</td>\n      <td>No</td>\n      <td>Yes</td>\n      <td>Chinese</td>\n      <td>Malay</td>\n      <td>Tamil</td>\n      <td>Arts Programme  Beyond Borders Programme Highe...</td>\n      <td>VICTORIA JUNIOR COLLEGE Singapore 449035</td>\n      <td>103.919388</td>\n      <td>1.306235</td>\n      <td>0706</td>\n    </tr>\n    <tr>\n      <th>3</th>\n      <td>4.0</td>\n      <td>EUNOIA JUNIOR COLLEGE</td>\n      <td>http://www.eunoiajc.moe.edu.sg</td>\n      <td>53 MOUNT SINAI ROAD</td>\n      <td>276880.0</td>\n      <td>63518388</td>\n      <td>na</td>\n      <td>63518399</td>\n      <td>na</td>\n      <td>eunoiajc@moe.edu.sg</td>\n      <td>...</td>\n      <td>No</td>\n      <td>Yes</td>\n      <td>Chinese</td>\n      <td>Malay</td>\n      <td>Tamil</td>\n      <td>Environmental Literacy Programme Leadership Ad...</td>\n      <td>EUNOIA JUNIOR COLLEGE Singapore 276880</td>\n      <td>103.836529</td>\n      <td>1.360811</td>\n      <td>0714</td>\n    </tr>\n    <tr>\n      <th>4</th>\n      <td>9.0</td>\n      <td>CATHOLIC JUNIOR COLLEGE</td>\n      <td>http://www.cjc.edu.sg</td>\n      <td>129 WHITLEY ROAD</td>\n      <td>297822.0</td>\n      <td>62524083</td>\n      <td>na</td>\n      <td>62537267</td>\n      <td>na</td>\n      <td>catholic_jc@moe.edu.sg</td>\n      <td>...</td>\n      <td>No</td>\n      <td>No</td>\n      <td>na</td>\n      <td>na</td>\n      <td>na</td>\n      <td>Religious / Ethics Programme Overseas Communit...</td>\n      <td>CATHOLIC JUNIOR COLLEGE Singapore 297822</td>\n      <td>103.833967</td>\n      <td>1.325667</td>\n      <td>0802</td>\n    </tr>\n  </tbody>\n</table>\n<p>5 rows × 41 columns</p>\n</div>"
     },
     "metadata": {},
     "execution_count": 8
    }
   ],
   "source": [
    "csv_data.head()"
   ]
  },
  {
   "cell_type": "code",
   "execution_count": 9,
   "metadata": {},
   "outputs": [],
   "source": [
    "json_codes = data.keys()"
   ]
  },
  {
   "cell_type": "code",
   "execution_count": 10,
   "metadata": {},
   "outputs": [
    {
     "output_type": "execute_result",
     "data": {
      "text/plain": "Index(['X1', 'school_name', 'url_address', 'address', 'postal_code',\n       'telephone_no', 'telephone_no_2', 'fax_no', 'fax_no_2', 'email_address',\n       'mrt_desc', 'bus_desc', 'principal_name', 'first_vp_name',\n       'second_vp_name', 'third_vp_name', 'fourth_vp_name', 'fifth_vp_name',\n       'sixth_vp_name', 'visionstatement_desc', 'missionstatement_desc',\n       'philosophy_culture_ethos', 'dgp_code', 'zone_code', 'cluster_code',\n       'type_code', 'nature_code', 'session_code', 'mainlevel_code', 'sap_ind',\n       'autonomous_ind', 'gifted_ind', 'ip_ind', 'mothertongue1_code',\n       'mothertongue2_code', 'mothertongue3_code', 'special_sdp_offered',\n       'addr', 'lon', 'lat', 'code'],\n      dtype='object')"
     },
     "metadata": {},
     "execution_count": 10
    }
   ],
   "source": [
    "csv_data.columns"
   ]
  },
  {
   "cell_type": "code",
   "execution_count": 11,
   "metadata": {},
   "outputs": [],
   "source": [
    "lat_lng = csv_data.loc[csv_data.code.isin(json_codes), ['school_name', 'lon', 'lat', 'mainlevel_code', 'code']].to_json(orient='records')\n",
    "lat_lng = json.loads(lat_lng)"
   ]
  },
  {
   "cell_type": "code",
   "execution_count": 12,
   "metadata": {},
   "outputs": [],
   "source": [
    "json.dump(lat_lng, open(\"../data/map_data.json\", \"w\"))"
   ]
  },
  {
   "cell_type": "markdown",
   "metadata": {},
   "source": [
    "# level"
   ]
  },
  {
   "cell_type": "code",
   "execution_count": 13,
   "metadata": {},
   "outputs": [],
   "source": [
    "levels = pd.DataFrame(data.values()).merge(csv_data.loc[:, ['code', 'mainlevel_code']], how='left', on='code').loc[:, ['code', 'mainlevel_code']]\n",
    "levels = zip(levels.code.to_list(), levels.mainlevel_code.to_list())"
   ]
  },
  {
   "cell_type": "code",
   "execution_count": 14,
   "metadata": {},
   "outputs": [],
   "source": [
    "levels = dict(levels)"
   ]
  },
  {
   "cell_type": "code",
   "execution_count": 15,
   "metadata": {},
   "outputs": [],
   "source": [
    "for code, schData in data.items():\n",
    "    schData[\"level\"] = levels[code]"
   ]
  },
  {
   "cell_type": "markdown",
   "metadata": {},
   "source": [
    "# skim data"
   ]
  },
  {
   "cell_type": "code",
   "execution_count": 16,
   "metadata": {},
   "outputs": [],
   "source": [
    "deleteKeys = [\"levels\", \"uen\", \"logo\", \"AchievementHistory\", \"postalCode\"]"
   ]
  },
  {
   "cell_type": "code",
   "execution_count": 17,
   "metadata": {},
   "outputs": [],
   "source": [
    "for code, schData in data.items():\n",
    "    trimmed = {k:v for k, v in schData.items() if k not in deleteKeys}\n",
    "    data[code] = trimmed"
   ]
  },
  {
   "cell_type": "code",
   "execution_count": 18,
   "metadata": {},
   "outputs": [
    {
     "output_type": "execute_result",
     "data": {
      "text/plain": "dict_keys(['code', 'name', 'website', 'address', 'telephone', 'fax', 'email', 'mrt', 'bus', 'GeneralInformation', 'SubjectOffered', 'Cca', 'SpecialProgrammes', 'location', 'awards', 'awards_map', 'Vacancy', 'level'])"
     },
     "metadata": {},
     "execution_count": 18
    }
   ],
   "source": [
    "data['1767'].keys()"
   ]
  },
  {
   "cell_type": "code",
   "execution_count": 19,
   "metadata": {},
   "outputs": [],
   "source": [
    "json.dump(data, open(\"../data/school-info-v4.json\", \"w\"))"
   ]
  }
 ],
 "metadata": {
  "language_info": {
   "codemirror_mode": {
    "name": "ipython",
    "version": 3
   },
   "file_extension": ".py",
   "mimetype": "text/x-python",
   "name": "python",
   "nbconvert_exporter": "python",
   "pygments_lexer": "ipython3",
   "version": "3.7.3-final"
  },
  "orig_nbformat": 2,
  "kernelspec": {
   "name": "python3",
   "display_name": "Python 3"
  }
 },
 "nbformat": 4,
 "nbformat_minor": 2
}