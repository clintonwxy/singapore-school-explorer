{
 "cells": [
  {
   "cell_type": "markdown",
   "metadata": {},
   "source": [
    "# Pre-wrangling some data\n",
    "- Remove 'commerce' from some schools\n",
    "- Wrangling for datatable (schools, cca, special progs)\n",
    "- achievement"
   ]
  },
  {
   "cell_type": "code",
   "execution_count": 1,
   "metadata": {},
   "outputs": [],
   "source": [
    "import json"
   ]
  },
  {
   "cell_type": "code",
   "execution_count": 2,
   "metadata": {},
   "outputs": [],
   "source": [
    "data = json.load(open(\"../data/all-schools-info.json\"))"
   ]
  },
  {
   "cell_type": "code",
   "execution_count": 3,
   "metadata": {},
   "outputs": [],
   "source": [
    "# remove commerce\n",
    "def rmCommerce(data):\n",
    "    for code, school in data.items():\n",
    "        if 'L1R5History' in school.keys():\n",
    "            score = school['L1R5History']['2018']\n",
    "            if 'Commerce' in score.keys() and score['Commerce'][0] == \"-\":\n",
    "                del score['Commerce']\n",
    "    return data"
   ]
  },
  {
   "cell_type": "code",
   "execution_count": 4,
   "metadata": {},
   "outputs": [],
   "source": [
    "data = rmCommerce(data)"
   ]
  },
  {
   "cell_type": "code",
   "execution_count": 5,
   "metadata": {},
   "outputs": [],
   "source": [
    "# wrangling for datatable\n",
    "for code, school in data.items():\n",
    "    subject = [{'Type': 'Subject', 'Category': 'N.A.', 'Offering': subject} for subject in school['SubjectOffered']]\n",
    "    cca = [{'Type': 'CCA', 'Category': type, 'Offering': cca} for type, ccas in school['Cca'].items() for cca in ccas]\n",
    "    progs = []\n",
    "    for progType, prog in school['SpecialProgrammes'].items():\n",
    "        if type(prog) == list and prog[0] != 'Not Available':\n",
    "            for item in prog:\n",
    "                progs.append({'Type': 'Special Programmes', 'Category': progType, 'Offering': item})\n",
    "        if type(prog) == dict:\n",
    "            for key, value in prog.items():\n",
    "                progs.append({'Type': 'Special Programmes', 'Category': progType, 'Offering': value})\n",
    "        if type(prog) == str:\n",
    "            progs.append({'Type': 'Special Programmes', 'Category': progType, 'Offering': prog})\n",
    "    school['SubjectOffered'] = subject\n",
    "    school['Cca'] = cca\n",
    "    school['SpecialProgrammes'] = progs"
   ]
  },
  {
   "cell_type": "code",
   "execution_count": 6,
   "metadata": {},
   "outputs": [
    {
     "output_type": "execute_result",
     "data": {
      "text/plain": "[{'Type': 'Subject', 'Category': 'N.A.', 'Offering': 'H1 BIOLOGY'},\n {'Type': 'Subject', 'Category': 'N.A.', 'Offering': 'H1 CHEMISTRY'},\n {'Type': 'Subject', 'Category': 'N.A.', 'Offering': 'H1 CHINESE LANGUAGE'},\n {'Type': 'Subject', 'Category': 'N.A.', 'Offering': 'H1 ECONOMICS'},\n {'Type': 'Subject', 'Category': 'N.A.', 'Offering': 'H1 GENERAL PAPER'},\n {'Type': 'Subject', 'Category': 'N.A.', 'Offering': 'H1 GEOGRAPHY'},\n {'Type': 'Subject', 'Category': 'N.A.', 'Offering': 'H1 HISTORY'},\n {'Type': 'Subject',\n  'Category': 'N.A.',\n  'Offering': 'H1 LITERATURE IN ENGLISH'},\n {'Type': 'Subject', 'Category': 'N.A.', 'Offering': 'H1 MALAY LANGUAGE'},\n {'Type': 'Subject', 'Category': 'N.A.', 'Offering': 'H1 MATHEMATICS'},\n {'Type': 'Subject', 'Category': 'N.A.', 'Offering': 'H1 PHYSICS'},\n {'Type': 'Subject', 'Category': 'N.A.', 'Offering': 'H1 PROJECT WORK'},\n {'Type': 'Subject', 'Category': 'N.A.', 'Offering': 'H1 TAMIL LANGUAGE'},\n {'Type': 'Subject', 'Category': 'N.A.', 'Offering': 'H2 ART'},\n {'Type': 'Subject', 'Category': 'N.A.', 'Offering': 'H2 BIOLOGY'},\n {'Type': 'Subject', 'Category': 'N.A.', 'Offering': 'H2 CHEMISTRY'},\n {'Type': 'Subject',\n  'Category': 'N.A.',\n  'Offering': 'H2 CHINESE LANGUAGE & LITERATURE'},\n {'Type': 'Subject', 'Category': 'N.A.', 'Offering': 'H2 COMPUTING'},\n {'Type': 'Subject', 'Category': 'N.A.', 'Offering': 'H2 ECONOMICS'},\n {'Type': 'Subject',\n  'Category': 'N.A.',\n  'Offering': 'H2 ENGLISH LANGUAGE AND LINGUISTICS'},\n {'Type': 'Subject', 'Category': 'N.A.', 'Offering': 'H2 FURTHER MATHEMATICS'},\n {'Type': 'Subject', 'Category': 'N.A.', 'Offering': 'H2 GEOGRAPHY'},\n {'Type': 'Subject', 'Category': 'N.A.', 'Offering': 'H2 HISTORY'},\n {'Type': 'Subject', 'Category': 'N.A.', 'Offering': 'H2 KNOWLEDGE & INQUIRY'},\n {'Type': 'Subject',\n  'Category': 'N.A.',\n  'Offering': 'H2 LITERATURE IN ENGLISH'},\n {'Type': 'Subject',\n  'Category': 'N.A.',\n  'Offering': 'H2 MALAY LANGUAGE & LITERATURE'},\n {'Type': 'Subject', 'Category': 'N.A.', 'Offering': 'H2 MATHEMATICS'},\n {'Type': 'Subject', 'Category': 'N.A.', 'Offering': 'H2 MUSIC'},\n {'Type': 'Subject', 'Category': 'N.A.', 'Offering': 'H2 PHYSICS'},\n {'Type': 'Subject',\n  'Category': 'N.A.',\n  'Offering': 'H2 TAMIL LANGUAGE & LITERATURE'},\n {'Type': 'Subject', 'Category': 'N.A.', 'Offering': 'H3 ART'},\n {'Type': 'Subject', 'Category': 'N.A.', 'Offering': 'H3 ECONOMICS'},\n {'Type': 'Subject',\n  'Category': 'N.A.',\n  'Offering': 'H3 ESSENTIALS OF MODERN PHYSICS'},\n {'Type': 'Subject', 'Category': 'N.A.', 'Offering': 'H3 MATHEMATICS'},\n {'Type': 'Subject',\n  'Category': 'N.A.',\n  'Offering': 'H3 PHARMACEUTICAL CHEMISTRY'},\n {'Type': 'Subject', 'Category': 'N.A.', 'Offering': 'H3 PROTEOMICS'}]"
     },
     "metadata": {},
     "execution_count": 6
    }
   ],
   "source": [
    "data['0701']['SubjectOffered']"
   ]
  },
  {
   "cell_type": "code",
   "execution_count": 7,
   "metadata": {},
   "outputs": [
    {
     "output_type": "stream",
     "name": "stdout",
     "text": "{'SYF Arts Presentation', 'Sustained Achievement Award', 'School Distinction Awards', 'Development Award', 'School Excellence Awards', 'Best Unit Award', 'Achievement Award', 'Special Awards', 'Outstanding Development Award', 'Best Practice Awards', 'Sports & Games Competition'}\n"
    }
   ],
   "source": [
    "# what types of achievement are there\n",
    "keys = set()\n",
    "for code, school in data.items():\n",
    "    for level in school['AchievementHistory'].keys():\n",
    "        for year in range(2013, 2019):\n",
    "            for key in school['AchievementHistory'][level][str(year)].keys():\n",
    "                keys.add(key)\n",
    "print(keys)"
   ]
  },
  {
   "cell_type": "code",
   "execution_count": 8,
   "metadata": {},
   "outputs": [],
   "source": [
    "for code, school in data.items():\n",
    "    awards = []\n",
    "    for level in school['AchievementHistory'].keys():\n",
    "        for year in range(2014, 2019):\n",
    "            for key in school['AchievementHistory'][level][str(year)].keys():\n",
    "                if key not in ['SYF Arts Presentation', 'Sports & Games Competition', 'Best Unit Award']:\n",
    "                    awards.append({'Year': year, 'Category': 'Others', 'Award': key, 'CCA': 'N.A.'})\n",
    "                elif key == 'Sports & Games Competition':\n",
    "                    columns = school['AchievementHistory'][level][str(year)][key]\n",
    "                    for col in columns[3:]:\n",
    "                        for i in range(1, len(col)):\n",
    "                            if col[i] != '-':\n",
    "                                awards.append({'Year': year, 'Category': \"Sports\", 'Award': columns[0][i] + ' ' + col[i], 'CCA': col[0] + ' (' + columns[1][i] + ' ' + columns[2][i] + ')'})\n",
    "                else:\n",
    "                    for org, award in school['AchievementHistory'][level][str(year)][key].items():\n",
    "                        if key == \"Best Unit Award\":\n",
    "                            awards.append({'Year': year, 'Category': \"Best Unit\", 'Award': award, 'CCA': org})\n",
    "                        if key == \"SYF Arts Presentation\":\n",
    "                            awards.append({'Year': year, 'Category': \"SYF Arts\", 'Award': award, 'CCA': org})\n",
    "    school['awards'] = awards"
   ]
  },
  {
   "cell_type": "code",
   "execution_count": 9,
   "metadata": {},
   "outputs": [],
   "source": [
    "import pandas as pd"
   ]
  },
  {
   "cell_type": "code",
   "execution_count": 10,
   "metadata": {},
   "outputs": [],
   "source": [
    "test = pd.DataFrame(data['3047']['awards']).groupby(['Year', 'Category'])['Award'].value_counts().reset_index(name='count').groupby(['Year', 'Category']).agg(list).reset_index().to_json(orient='records')"
   ]
  },
  {
   "cell_type": "code",
   "execution_count": 11,
   "metadata": {},
   "outputs": [],
   "source": [
    "test = json.loads(test)"
   ]
  },
  {
   "cell_type": "code",
   "execution_count": 12,
   "metadata": {},
   "outputs": [],
   "source": [
    "for record in test:\n",
    "    record[\"Total\"] = sum(record[\"count\"])\n",
    "    details = []\n",
    "    for i in range(0, len(record[\"Award\"])):\n",
    "        details.append({'Award': record[\"Award\"][i], 'Count': record[\"count\"][i]})\n",
    "    record[\"Details\"] = details"
   ]
  },
  {
   "cell_type": "code",
   "execution_count": 13,
   "metadata": {
    "tags": [
     "outputPrepend",
     "outputPrepend",
     "outputPrepend",
     "outputPrepend",
     "outputPrepend",
     "outputPrepend",
     "outputPrepend",
     "outputPrepend",
     "outputPrepend",
     "outputPrepend",
     "outputPrepend",
     "outputPrepend",
     "outputPrepend",
     "outputPrepend",
     "outputPrepend",
     "outputPrepend",
     "outputPrepend",
     "outputPrepend",
     "outputPrepend",
     "outputPrepend",
     "outputPrepend",
     "outputPrepend",
     "outputPrepend",
     "outputPrepend",
     "outputPrepend",
     "outputPrepend",
     "outputPrepend",
     "outputPrepend",
     "outputPrepend",
     "outputPrepend",
     "outputPrepend"
    ]
   },
   "outputs": [
    {
     "output_type": "stream",
     "name": "stdout",
     "text": "1271\n1272\n3077\n"
    }
   ],
   "source": [
    "# those not working are because no achievement history\n",
    "for code, school in data.items():\n",
    "    try:\n",
    "        award_map = pd.DataFrame(school['awards'])\n",
    "        award_map = award_map.groupby(['Year', 'Category'])['Award'].value_counts().reset_index(name='count').groupby(['Year', 'Category']).agg(list).reset_index().to_json(orient='records')\n",
    "        award_map = json.loads(award_map)\n",
    "        for record in award_map:\n",
    "            record[\"Total\"] = sum(record[\"count\"])\n",
    "            details = []\n",
    "            for i in range(0, len(record[\"Award\"])):\n",
    "                details.append({'Award': record[\"Award\"][i], 'Count': record[\"count\"][i]})\n",
    "            record[\"Details\"] = details\n",
    "        school[\"awards_map\"] = award_map\n",
    "    except:\n",
    "        print(code)"
   ]
  },
  {
   "cell_type": "code",
   "execution_count": 14,
   "metadata": {},
   "outputs": [],
   "source": [
    "for code, school in data.items():\n",
    "    if 'awards_map' not in school.keys():\n",
    "        school['awards_map'] = []"
   ]
  },
  {
   "cell_type": "code",
   "execution_count": 15,
   "metadata": {},
   "outputs": [],
   "source": [
    "json.dump(data, open(\"../data/school-info-wrangled.json\", \"w\"))"
   ]
  }
 ],
 "metadata": {
  "language_info": {
   "codemirror_mode": {
    "name": "ipython",
    "version": 3
   },
   "file_extension": ".py",
   "mimetype": "text/x-python",
   "name": "python",
   "nbconvert_exporter": "python",
   "pygments_lexer": "ipython3",
   "version": "3.7.3-final"
  },
  "orig_nbformat": 2,
  "kernelspec": {
   "name": "python3",
   "display_name": "Python 3"
  }
 },
 "nbformat": 4,
 "nbformat_minor": 2
}