{
 "nbformat": 4,
 "nbformat_minor": 2,
 "metadata": {
  "language_info": {
   "name": "python",
   "codemirror_mode": {
    "name": "ipython",
    "version": 3
   },
   "version": "3.7.3-final"
  },
  "orig_nbformat": 2,
  "file_extension": ".py",
  "mimetype": "text/x-python",
  "name": "python",
  "npconvert_exporter": "python",
  "pygments_lexer": "ipython3",
  "version": 3,
  "kernelspec": {
   "name": "python3",
   "display_name": "Python 3"
  }
 },
 "cells": [
  {
   "cell_type": "markdown",
   "metadata": {},
   "source": [
    "# Scraping"
   ]
  },
  {
   "cell_type": "code",
   "execution_count": 31,
   "metadata": {},
   "outputs": [
    {
     "name": "stdout",
     "output_type": "stream",
     "text": "Page 0 found results YAYYY\nPage 1 found results YAYYY\nPage 2 found results YAYYY\nPage 3 found results YAYYY\nPage 4 found results YAYYY\nPage 5 found results YAYYY\nPage 6 found results YAYYY\nPage 7 found results YAYYY\n"
    }
   ],
   "source": [
    "from selenium import webdriver\n",
    "from selenium.common.exceptions import TimeoutException\n",
    "from selenium.webdriver.support.ui import WebDriverWait\n",
    "from selenium.webdriver.support import expected_conditions as EC\n",
    "from selenium.webdriver.common.by import By\n",
    "\n",
    "driver = webdriver.PhantomJS()\n",
    "driver.get('https://beta.moe.gov.sg/schoolfinder/?journey=Secondary%20school')\n",
    "\n",
    "school_links = []\n",
    "\n",
    "for i in range(0, 8):\n",
    "    try:\n",
    "        element_present = EC.presence_of_element_located((By.CSS_SELECTOR, 'a.moe-card'))\n",
    "        WebDriverWait(driver, 8).until(element_present)\n",
    "\n",
    "        schools = driver.find_elements_by_css_selector('a.moe-card')\n",
    "\n",
    "        if len(schools) == 0:\n",
    "            print(\"On page \" + str(i) + \" no schools were found\")\n",
    "        else:\n",
    "            print(\"Page \" + str(i) + \" found results YAYYY\")\n",
    "            for school in schools:\n",
    "                school_links.append(school.get_attribute('href'))\n",
    "        \n",
    "        button = driver.find_elements_by_css_selector('.moe-pagination__btn.dir--right')\n",
    "        if len(button) == 0:\n",
    "            print('button problem at page ' + str(i))\n",
    "            break\n",
    "        else:\n",
    "            button[0].click()\n",
    "\n",
    "    except TimeoutException:\n",
    "        print (\"Timed out waiting for page \" + str(i) + \" to load\")"
   ]
  },
  {
   "cell_type": "code",
   "execution_count": 121,
   "metadata": {},
   "outputs": [],
   "source": [
    "from selenium.common.exceptions import NoSuchElementException"
   ]
  },
  {
   "cell_type": "code",
   "execution_count": 137,
   "metadata": {},
   "outputs": [],
   "source": [
    "table_failed = []\n",
    "page_failed = []\n",
    "results = []\n",
    "\n",
    "for school in school_links:\n",
    "    try:\n",
    "        driver.get(school)\n",
    "        element_present = EC.presence_of_element_located((By.TAG_NAME, 'table'))\n",
    "        WebDriverWait(driver, 8).until(element_present)\n",
    "\n",
    "        table = driver.find_element_by_xpath('//*[@id=\"moe-school-finder\"]/div/div/div[2]/div[1]/div/div[2]/div/table')\n",
    "        results.append(table.get_attribute('innerHTML'))\n",
    "\n",
    "    except TimeoutException:\n",
    "        page_failed.append(school)\n",
    "\n",
    "    except NoSuchElementException:\n",
    "        table_failed.append(school)"
   ]
  },
  {
   "cell_type": "code",
   "execution_count": 146,
   "metadata": {},
   "outputs": [],
   "source": [
    "import pickle\n",
    "with open('../data/school_raw.txt', \"wb\") as fp:\n",
    "    pickle.dump(results, fp)\n",
    "    fp.close()"
   ]
  },
  {
   "cell_type": "code",
   "execution_count": 150,
   "metadata": {},
   "outputs": [],
   "source": [
    "not_scraped = page_failed + table_failed"
   ]
  },
  {
   "cell_type": "code",
   "execution_count": 221,
   "metadata": {},
   "outputs": [],
   "source": [
    "with open(\"../data/not_scraped.txt\", \"wb\") as fp:\n",
    "   pickle.dump(not_scraped, fp)\n",
    "   fp.close()"
   ]
  },
  {
   "cell_type": "code",
   "execution_count": 170,
   "metadata": {},
   "outputs": [],
   "source": [
    "with open(\"../data/school_links.txt\", \"wb\") as fp:\n",
    "   pickle.dump(school_links, fp)\n",
    "   fp.close()"
   ]
  },
  {
   "cell_type": "code",
   "execution_count": 223,
   "metadata": {},
   "outputs": [],
   "source": [
    "with open('../data/not_scrapedTEXT.txt', 'w') as fp:\n",
    "    for school in not_scraped:\n",
    "        fp.write('%s\\n' % school)"
   ]
  },
  {
   "cell_type": "markdown",
   "metadata": {},
   "source": [
    "# Parsing"
   ]
  },
  {
   "cell_type": "code",
   "execution_count": null,
   "metadata": {},
   "outputs": [],
   "source": [
    "from bs4 import BeautifulSoup"
   ]
  },
  {
   "cell_type": "code",
   "execution_count": 215,
   "metadata": {},
   "outputs": [],
   "source": [
    "def parse_result(result):\n",
    "    soup = BeautifulSoup(result, 'html.parser')\n",
    "    output = {}\n",
    "    for row in soup.findAll('tr'):\n",
    "        data = row.findAll('td')\n",
    "        if len(data) == 0:\n",
    "            continue\n",
    "        elif len(data) == 1:\n",
    "            output[row.find('th').text] = data[0].text\n",
    "        else:\n",
    "            output[row.find('th').text] = {'affliated': data[0].text, 'non-affliated': data[1].text}\n",
    "    return output"
   ]
  },
  {
   "cell_type": "code",
   "execution_count": 216,
   "metadata": {},
   "outputs": [
    {
     "name": "stdout",
     "output_type": "stream",
     "text": "{'Express': '203 - 231', 'Normal (Academic)': '168 - 197', 'Normal (Technical)': '132 - 157'}\n{'Integrated Programme': {'affliated': ' - ', 'non-affliated': '256 - 274'}, 'Express': {'affliated': '235 - 255', 'non-affliated': '252 - 255'}, 'Normal (Academic)': {'affliated': ' - ', 'non-affliated': ' - '}, 'Normal (Technical)': {'affliated': ' - ', 'non-affliated': ' - '}}\n"
    }
   ],
   "source": [
    "# e.g. of non-affliated\n",
    "print(parse_result(results[0]))\n",
    "\n",
    "# e.g. of affliated\n",
    "print(parse_result(results[5]))"
   ]
  },
  {
   "cell_type": "code",
   "execution_count": 191,
   "metadata": {},
   "outputs": [
    {
     "data": {
      "text/plain": "'admiralty-secondary-school'"
     },
     "execution_count": 191,
     "metadata": {},
     "output_type": "execute_result"
    }
   ],
   "source": [
    "def get_sch_from_link(link):\n",
    "    output = link.split('?school=')[1]\n",
    "    return output\n",
    "\n",
    "get_sch_from_link(school_links[0])"
   ]
  },
  {
   "cell_type": "code",
   "execution_count": 193,
   "metadata": {},
   "outputs": [],
   "source": [
    "successful_schools = [link for link in school_links if link not in not_scraped]"
   ]
  },
  {
   "cell_type": "code",
   "execution_count": 217,
   "metadata": {},
   "outputs": [],
   "source": [
    "data_json = []\n",
    "for link, result in zip(successful_schools, results):\n",
    "    result_output = parse_result(result)\n",
    "    result_output['school'] = get_sch_from_link(link)\n",
    "    data_json.append(result_output)"
   ]
  },
  {
   "cell_type": "code",
   "execution_count": 209,
   "metadata": {},
   "outputs": [],
   "source": [
    "import pandas as pd"
   ]
  },
  {
   "cell_type": "code",
   "execution_count": 218,
   "metadata": {},
   "outputs": [
    {
     "data": {
      "text/html": "<div>\n<style scoped>\n    .dataframe tbody tr th:only-of-type {\n        vertical-align: middle;\n    }\n\n    .dataframe tbody tr th {\n        vertical-align: top;\n    }\n\n    .dataframe thead th {\n        text-align: right;\n    }\n</style>\n<table border=\"1\" class=\"dataframe\">\n  <thead>\n    <tr style=\"text-align: right;\">\n      <th></th>\n      <th>Express</th>\n      <th>Normal (Academic)</th>\n      <th>Normal (Technical)</th>\n      <th>school</th>\n      <th>Integrated Programme.affliated</th>\n      <th>Integrated Programme.non-affliated</th>\n      <th>Express.affliated</th>\n      <th>Express.non-affliated</th>\n      <th>Normal (Academic).affliated</th>\n      <th>Normal (Academic).non-affliated</th>\n      <th>Normal (Technical).affliated</th>\n      <th>Normal (Technical).non-affliated</th>\n    </tr>\n  </thead>\n  <tbody>\n    <tr>\n      <th>0</th>\n      <td>203 - 231</td>\n      <td>168 - 197</td>\n      <td>132 - 157</td>\n      <td>admiralty-secondary-school</td>\n      <td>NaN</td>\n      <td>NaN</td>\n      <td>NaN</td>\n      <td>NaN</td>\n      <td>NaN</td>\n      <td>NaN</td>\n      <td>NaN</td>\n      <td>NaN</td>\n    </tr>\n    <tr>\n      <th>1</th>\n      <td>224 - 239</td>\n      <td>177 - 196</td>\n      <td>131 - 156</td>\n      <td>ahmad-ibrahim-secondary-school</td>\n      <td>NaN</td>\n      <td>NaN</td>\n      <td>NaN</td>\n      <td>NaN</td>\n      <td>NaN</td>\n      <td>NaN</td>\n      <td>NaN</td>\n      <td>NaN</td>\n    </tr>\n    <tr>\n      <th>2</th>\n      <td>245 - 260</td>\n      <td>188 - 199</td>\n      <td>140 - 157</td>\n      <td>anderson-secondary-school</td>\n      <td>NaN</td>\n      <td>NaN</td>\n      <td>NaN</td>\n      <td>NaN</td>\n      <td>NaN</td>\n      <td>NaN</td>\n      <td>NaN</td>\n      <td>NaN</td>\n    </tr>\n    <tr>\n      <th>3</th>\n      <td>229 - 242</td>\n      <td>170 - 199</td>\n      <td>130 - 153</td>\n      <td>ang-mo-kio-secondary-school</td>\n      <td>NaN</td>\n      <td>NaN</td>\n      <td>NaN</td>\n      <td>NaN</td>\n      <td>NaN</td>\n      <td>NaN</td>\n      <td>NaN</td>\n      <td>NaN</td>\n    </tr>\n    <tr>\n      <th>4</th>\n      <td>241 - 259</td>\n      <td>-</td>\n      <td>-</td>\n      <td>anglican-high-school</td>\n      <td>NaN</td>\n      <td>NaN</td>\n      <td>NaN</td>\n      <td>NaN</td>\n      <td>NaN</td>\n      <td>NaN</td>\n      <td>NaN</td>\n      <td>NaN</td>\n    </tr>\n    <tr>\n      <th>...</th>\n      <td>...</td>\n      <td>...</td>\n      <td>...</td>\n      <td>...</td>\n      <td>...</td>\n      <td>...</td>\n      <td>...</td>\n      <td>...</td>\n      <td>...</td>\n      <td>...</td>\n      <td>...</td>\n      <td>...</td>\n    </tr>\n    <tr>\n      <th>112</th>\n      <td>218 - 233</td>\n      <td>166 - 198</td>\n      <td>118 - 154</td>\n      <td>yuan-ching-secondary-school</td>\n      <td>NaN</td>\n      <td>NaN</td>\n      <td>NaN</td>\n      <td>NaN</td>\n      <td>NaN</td>\n      <td>NaN</td>\n      <td>NaN</td>\n      <td>NaN</td>\n    </tr>\n    <tr>\n      <th>113</th>\n      <td>188 - 229</td>\n      <td>153 - 181</td>\n      <td>116 - 157</td>\n      <td>yuhua-secondary-school</td>\n      <td>NaN</td>\n      <td>NaN</td>\n      <td>NaN</td>\n      <td>NaN</td>\n      <td>NaN</td>\n      <td>NaN</td>\n      <td>NaN</td>\n      <td>NaN</td>\n    </tr>\n    <tr>\n      <th>114</th>\n      <td>188 - 230</td>\n      <td>152 - 193</td>\n      <td>123 - 156</td>\n      <td>yuying-secondary-school</td>\n      <td>NaN</td>\n      <td>NaN</td>\n      <td>NaN</td>\n      <td>NaN</td>\n      <td>NaN</td>\n      <td>NaN</td>\n      <td>NaN</td>\n      <td>NaN</td>\n    </tr>\n    <tr>\n      <th>115</th>\n      <td>210 - 237</td>\n      <td>169 - 198</td>\n      <td>129 - 158</td>\n      <td>zhenghua-secondary-school</td>\n      <td>NaN</td>\n      <td>NaN</td>\n      <td>NaN</td>\n      <td>NaN</td>\n      <td>NaN</td>\n      <td>NaN</td>\n      <td>NaN</td>\n      <td>NaN</td>\n    </tr>\n    <tr>\n      <th>116</th>\n      <td>236 - 264</td>\n      <td>181 - 199</td>\n      <td>134 - 159</td>\n      <td>zhonghua-secondary-school</td>\n      <td>NaN</td>\n      <td>NaN</td>\n      <td>NaN</td>\n      <td>NaN</td>\n      <td>NaN</td>\n      <td>NaN</td>\n      <td>NaN</td>\n      <td>NaN</td>\n    </tr>\n  </tbody>\n</table>\n<p>117 rows × 12 columns</p>\n</div>",
      "text/plain": "       Express Normal (Academic) Normal (Technical)  \\\n0    203 - 231         168 - 197          132 - 157   \n1    224 - 239         177 - 196          131 - 156   \n2    245 - 260         188 - 199          140 - 157   \n3    229 - 242         170 - 199          130 - 153   \n4    241 - 259                -                  -    \n..         ...               ...                ...   \n112  218 - 233         166 - 198          118 - 154   \n113  188 - 229         153 - 181          116 - 157   \n114  188 - 230         152 - 193          123 - 156   \n115  210 - 237         169 - 198          129 - 158   \n116  236 - 264         181 - 199          134 - 159   \n\n                             school Integrated Programme.affliated  \\\n0        admiralty-secondary-school                            NaN   \n1    ahmad-ibrahim-secondary-school                            NaN   \n2         anderson-secondary-school                            NaN   \n3       ang-mo-kio-secondary-school                            NaN   \n4              anglican-high-school                            NaN   \n..                              ...                            ...   \n112     yuan-ching-secondary-school                            NaN   \n113          yuhua-secondary-school                            NaN   \n114         yuying-secondary-school                            NaN   \n115       zhenghua-secondary-school                            NaN   \n116       zhonghua-secondary-school                            NaN   \n\n    Integrated Programme.non-affliated Express.affliated  \\\n0                                  NaN               NaN   \n1                                  NaN               NaN   \n2                                  NaN               NaN   \n3                                  NaN               NaN   \n4                                  NaN               NaN   \n..                                 ...               ...   \n112                                NaN               NaN   \n113                                NaN               NaN   \n114                                NaN               NaN   \n115                                NaN               NaN   \n116                                NaN               NaN   \n\n    Express.non-affliated Normal (Academic).affliated  \\\n0                     NaN                         NaN   \n1                     NaN                         NaN   \n2                     NaN                         NaN   \n3                     NaN                         NaN   \n4                     NaN                         NaN   \n..                    ...                         ...   \n112                   NaN                         NaN   \n113                   NaN                         NaN   \n114                   NaN                         NaN   \n115                   NaN                         NaN   \n116                   NaN                         NaN   \n\n    Normal (Academic).non-affliated Normal (Technical).affliated  \\\n0                               NaN                          NaN   \n1                               NaN                          NaN   \n2                               NaN                          NaN   \n3                               NaN                          NaN   \n4                               NaN                          NaN   \n..                              ...                          ...   \n112                             NaN                          NaN   \n113                             NaN                          NaN   \n114                             NaN                          NaN   \n115                             NaN                          NaN   \n116                             NaN                          NaN   \n\n    Normal (Technical).non-affliated  \n0                                NaN  \n1                                NaN  \n2                                NaN  \n3                                NaN  \n4                                NaN  \n..                               ...  \n112                              NaN  \n113                              NaN  \n114                              NaN  \n115                              NaN  \n116                              NaN  \n\n[117 rows x 12 columns]"
     },
     "execution_count": 218,
     "metadata": {},
     "output_type": "execute_result"
    }
   ],
   "source": [
    "df = pd.io.json.json_normalize(data_json)\n",
    "df"
   ]
  },
  {
   "cell_type": "code",
   "execution_count": 219,
   "metadata": {},
   "outputs": [],
   "source": [
    "df.to_csv('data/school_scores.csv')"
   ]
  }
 ]
}